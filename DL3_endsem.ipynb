{
  "cells": [
    {
      "cell_type": "markdown",
      "metadata": {
        "id": "1wO4hax65cCX"
      },
      "source": [
        "## IMPORTS"
      ]
    },
    {
      "cell_type": "code",
      "execution_count": 1,
      "metadata": {
        "id": "VaT1UlANrPaX"
      },
      "outputs": [],
      "source": [
        "from skimage import filters\n",
        "from skimage.color import rgb2gray\n",
        "import matplotlib.pyplot as plt\n",
        "from sklearn.model_selection import train_test_split\n",
        "import tensorflow as tf\n",
        "import numpy as np\n",
        "from tensorflow.keras.models import Model\n",
        "from tensorflow.keras import layers\n",
        "from tensorflow import keras\n",
        "from tensorflow.keras.preprocessing.image import ImageDataGenerator\n",
        "import cv2\n",
        "import matplotlib\n",
        "from skimage import data, img_as_float\n",
        "from skimage import exposure\n",
        "from tensorflow.keras.applications import VGG16\n",
        "from tensorflow.keras.layers import Input, Conv2D, Dropout, GlobalMaxPooling2D,MaxPool2D, \\\n",
        "Flatten, Dense, Activation, BatchNormalization, MaxPooling2D,LeakyReLU\n",
        "import random\n",
        "from tensorflow.keras import regularizers\n",
        "\n",
        "from tensorflow.keras.models import Model\n",
        "from tensorflow.keras.optimizers import SGD, Adam\n",
        "import sys, os"
      ]
    },
    {
      "cell_type": "code",
      "execution_count": 2,
      "metadata": {
        "id": "lkQJiYlQrirG",
        "colab": {
          "base_uri": "https://localhost:8080/"
        },
        "outputId": "f42d8aa8-f230-4f3a-9dde-461a08f009f7"
      },
      "outputs": [
        {
          "output_type": "stream",
          "name": "stdout",
          "text": [
            "Mounted at /content/drive\n"
          ]
        }
      ],
      "source": [
        "from google.colab import drive\n",
        "drive.mount(\"/content/drive\")"
      ]
    },
    {
      "cell_type": "code",
      "execution_count": 3,
      "metadata": {
        "id": "PwkxjJd2s36e"
      },
      "outputs": [],
      "source": [
        "# %cd /content/drive/My\\ Drive/"
      ]
    },
    {
      "cell_type": "code",
      "execution_count": 4,
      "metadata": {
        "id": "w3j3EUHssd-V"
      },
      "outputs": [],
      "source": [
        "# !unzip ProjectDataset.zip"
      ]
    },
    {
      "cell_type": "markdown",
      "metadata": {
        "id": "pzGzHb3tLKIg"
      },
      "source": [
        "## Global stuff"
      ]
    },
    {
      "cell_type": "code",
      "execution_count": 55,
      "metadata": {
        "id": "8NLoaG4WrPac"
      },
      "outputs": [],
      "source": [
        "def extractImages(data):\n",
        "    normalImages = []\n",
        "    Labels = []\n",
        "    for i in data:\n",
        "        if i.endswith('.png'):\n",
        "            img=cv2.imread(i)\n",
        "            img1=cv2.resize(img, (50,50))\n",
        "            normalImages.append(img1)\n",
        "            Labels.append(i[-5])\n",
        "    Labels=np.array(Labels)\n",
        "    normalImages = np.array(normalImages)\n",
        "    return normalImages,Labels\n",
        "\n",
        "\n",
        "def minorPreprocess(normalImages):\n",
        "    rescaled = []\n",
        "    hist_equalised = []\n",
        "    adapt_equalised = []\n",
        "    grayed = []\n",
        "    for i in range(len(normalImages)):\n",
        "        img = normalImages[i]\n",
        "        grayed.append(img)\n",
        "        rescaled.append(exposure.rescale_intensity(img, in_range=(2,98)))\n",
        "        hist_equalised.append(exposure.equalize_hist(img))\n",
        "        adapt_equalised.append(exposure.equalize_adapthist(img, clip_limit=0.03))\n",
        "    return rescaled,hist_equalised,adapt_equalised,grayed\n",
        "\n",
        "\n",
        "def makeGenerator():    \n",
        "    datagen = ImageDataGenerator(\n",
        "        rescale=1./255,\n",
        "        featurewise_center=True,  \n",
        "        samplewise_center=False, \n",
        "        featurewise_std_normalization=True, \n",
        "        samplewise_std_normalization=False,  \n",
        "        zca_whitening=False,  \n",
        "        rotation_range=180, \n",
        "        width_shift_range=0.1, \n",
        "        height_shift_range=0.1, \n",
        "        shear_range = 0.2, \n",
        "        horizontal_flip=True,  \n",
        "        vertical_flip=True,\n",
        "        zoom_range=0.2)\n",
        "    return datagen\n",
        "\n",
        "\n",
        "def createModel(bias):   \n",
        "    model = tf.keras.models.Sequential([\n",
        "        tf.keras.layers.Conv2D(32, (3,3), activation='relu', input_shape=(50, 50, 3)),\n",
        "        tf.keras.layers.MaxPooling2D(2, 2),\n",
        "        tf.keras.layers.Conv2D(64, (3,3), activation='relu'),\n",
        "        tf.keras.layers.MaxPooling2D(2,2),\n",
        "        tf.keras.layers.Conv2D(128, (3,3), activation='relu'),\n",
        "        tf.keras.layers.MaxPooling2D(2,2),\n",
        "        tf.keras.layers.Conv2D(128, (3,3), activation='relu'),\n",
        "        tf.keras.layers.MaxPooling2D(2,2),\n",
        "        tf.keras.layers.Flatten(),\n",
        "        tf.keras.layers.Dense(512, activation='relu'),\n",
        "        tf.keras.layers.Dropout(0.5),\n",
        "        tf.keras.layers.Dense(2, activation='relu'),\n",
        "        tf.keras.layers.Dropout(0.2),\n",
        "        tf.keras.layers.Dense(1, activation='sigmoid',bias_initializer=bias)\n",
        "    ])\n",
        "    return model\n",
        "\n",
        "\n",
        "\n",
        "def createResnetTransferModel(inputShape,bias):\n",
        "  resnet_model = tf.keras.applications.ResNet50(weights = 'imagenet', include_top = False, input_shape =inputShape)\n",
        "  resnet_model.trainable = False\n",
        "  # set_trainable = False\n",
        "  # for layer in resnet_model.layers:\n",
        "  #     if layer.name in ['res5c_branch2b', 'res5c_branch2c', 'activation_97']:\n",
        "  #         set_trainable = True\n",
        "  #     if set_trainable:\n",
        "  #         layer.trainable = True\n",
        "  #     else:\n",
        "  #         layer.trainable = False\n",
        "  x2 = layers.Flatten()(resnet_model.output)\n",
        "  x2 = layers.Dense(256, activation='relu')(x2)\n",
        "  x2 = layers.Dropout(0.3)(x2)\n",
        "  x2 = layers.Dense(1, activation = 'sigmoid',bias_initializer=bias)(x2)\n",
        "\n",
        "  resnetTransferModel = Model(inputs = resnet_model.input, outputs = x2)\n",
        "  return resnetTransferModel\n",
        "\n",
        "\n",
        "METRICS = [\n",
        "      keras.metrics.TruePositives(name='tp'),\n",
        "      keras.metrics.FalsePositives(name='fp'),\n",
        "      keras.metrics.TrueNegatives(name='tn'),\n",
        "      keras.metrics.FalseNegatives(name='fn'), \n",
        "      keras.metrics.BinaryAccuracy(name='accuracy'),\n",
        "      keras.metrics.Precision(name='precision'),\n",
        "      keras.metrics.Recall(name='recall'),\n",
        "      keras.metrics.AUC(name='auc'),\n",
        "      keras.metrics.AUC(name='prc', curve='PR'),\n",
        "      \n",
        "]\n",
        "\n",
        "\n",
        "\n",
        "def smallModel(inputShape,bias):\n",
        "  i = Input(shape=inputShape)\n",
        "  x = Conv2D(16, (3, 3), strides=1, activation='relu')(i)\n",
        "  x = Conv2D(32, (3, 3), strides=1, activation='relu')(x)\n",
        "  x = Conv2D(64, (3, 3), strides=1, activation='relu')(x)\n",
        "  x = Conv2D(128, (3, 3), strides=1, activation='relu')(x)\n",
        "  x = Flatten()(x)\n",
        "  x = Dropout(0.2)(x)\n",
        "  x = Dense(512, activation='relu')(x)\n",
        "  x = Dropout(0.2)(x)\n",
        "  x = Dense(1, activation='sigmoid',bias_initializer=bias)(x)\n",
        "  model = Model(i, x)\n",
        "\n",
        "  return model\n",
        "\n",
        "\n",
        "\n",
        "def TLxcModel(inputshape,bias): \n",
        "  base_model = tf.keras.applications.Xception(\n",
        "  weights='imagenet', \n",
        "  input_shape=inputshape,\n",
        "  include_top=False) \n",
        "  base_model.trainable = False\n",
        "\n",
        "  inputs = tf.keras.Input(shape=(inputshape))\n",
        "  x = base_model(inputs, training=False)\n",
        "  x = keras.layers.GlobalAveragePooling2D()(x)\n",
        "  outputs = keras.layers.Dense(1,activation='sigmoid',bias_initializer=bias)(x)\n",
        "  model = keras.Model(inputs, outputs)\n",
        "  return model\n",
        "\n",
        "\n",
        "\n",
        "def createVgg16FT(inputShape,bias):\n",
        "  vggmodel=VGG16(weights='imagenet',input_shape=inputShape,include_top = False)\n",
        "  for layer in vggmodel.layers[:15]:\n",
        "      layer.trainable = False\n",
        "  x_ = vggmodel.output\n",
        "  x_ = Flatten()(x_)\n",
        "  x_ = Dense(512, activation='relu')(x_)\n",
        "  x_ = Dropout(0.5)(x_)\n",
        "  x_ = Dense(1, activation='sigmoid',bias_initializer=bias)(x_)\n",
        "  transfer_model = Model(inputs=vggmodel.input, outputs=x_)\n",
        "  return transfer_model\n",
        "\n",
        "\n",
        "callback = tf.keras.callbacks.EarlyStopping(monitor='prc', patience=15,restore_best_weights=True,mode='max')\n"
      ]
    },
    {
      "cell_type": "markdown",
      "metadata": {
        "id": "3itfJJNA59C0"
      },
      "source": [
        "# NEW PART"
      ]
    },
    {
      "cell_type": "markdown",
      "metadata": {
        "id": "5apIsvBf7b5V"
      },
      "source": [
        "## DATA LOAD"
      ]
    },
    {
      "cell_type": "code",
      "execution_count": 8,
      "metadata": {
        "id": "yJkr5u9DfqEh"
      },
      "outputs": [],
      "source": [
        "import joblib\n",
        "normalImages2,Labels2, = joblib.load('/content/drive/MyDrive/dataset/normalImages2'),joblib.load('/content/drive/MyDrive/dataset/Labels2')"
      ]
    },
    {
      "cell_type": "code",
      "execution_count": 9,
      "metadata": {
        "id": "lm3DKmS5kchu"
      },
      "outputs": [],
      "source": [
        "Labels2=np.array(Labels2)\n",
        "normalImages2 = np.array(normalImages2)"
      ]
    },
    {
      "cell_type": "code",
      "execution_count": 12,
      "metadata": {
        "id": "S_9imDjorPam"
      },
      "outputs": [],
      "source": [
        "pos = len(np.where(Labels2=='1')[0])\n",
        "neg = len(np.where(Labels2=='0')[0])\n",
        "bias = np.log([pos/neg])\n",
        "bias = tf.keras.initializers.Constant(bias)"
      ]
    },
    {
      "cell_type": "code",
      "execution_count": 13,
      "metadata": {
        "id": "f0TFYwyBrPan"
      },
      "outputs": [],
      "source": [
        "X_train, X_test, y_train, y_test = train_test_split(normalImages2, Labels2.astype(int), test_size=0.19, random_state=1)\n",
        "X_test, X_val, y_test, y_val = train_test_split(X_test, y_test, test_size=9/19, random_state=1)\n",
        "datagen2 = makeGenerator()\n",
        "datagen2.fit(X_train)"
      ]
    },
    {
      "cell_type": "code",
      "execution_count": 14,
      "metadata": {
        "colab": {
          "base_uri": "https://localhost:8080/"
        },
        "id": "nq_vjX8Y8USp",
        "outputId": "5e63f738-4ffe-4b4b-b0fe-b7e5407cac1d"
      },
      "outputs": [
        {
          "output_type": "stream",
          "name": "stderr",
          "text": [
            "/usr/local/lib/python3.7/dist-packages/skimage/exposure/exposure.py:181: UserWarning: This might be a color image. The histogram will be computed on the flattened image. You can instead apply this function to each color channel.\n",
            "  hist, bin_centers = histogram(image, nbins)\n"
          ]
        }
      ],
      "source": [
        "rescaled,hist_equalised,adapt_equalised,grayed = minorPreprocess(normalImages2)\n",
        "hist_equalised = np.array(hist_equalised)\n",
        "hist_equalised=hist_equalised.reshape((7000, 50, 50,3))"
      ]
    },
    {
      "cell_type": "code",
      "execution_count": 15,
      "metadata": {
        "id": "WuVHMMZ1HaV7"
      },
      "outputs": [],
      "source": [
        "rescaled,adapt_equalised,grayed = np.array(rescaled),np.array(adapt_equalised),np.array(grayed)"
      ]
    },
    {
      "cell_type": "code",
      "execution_count": 16,
      "metadata": {
        "id": "EzgqNUJk8MMc"
      },
      "outputs": [],
      "source": [
        "X_train2, X_test2, y_train2, y_test2 = train_test_split(hist_equalised, Labels2.astype(int), test_size=0.19, random_state=1)\n",
        "X_test2, X_val2, y_test2, y_val2 = train_test_split(X_test2, y_test2, test_size=9/19, random_state=1)\n",
        "datagen3 = makeGenerator()\n",
        "datagen3.fit(X_train2)"
      ]
    },
    {
      "cell_type": "code",
      "execution_count": 17,
      "metadata": {
        "id": "PWDYtiOo_LgT"
      },
      "outputs": [],
      "source": [
        "import joblib\n",
        "medianimages = joblib.load(\"/content/drive/MyDrive/dataset/median_image\")\n",
        "medianLabel = joblib.load(\"/content/drive/MyDrive/dataset/labels_\")\n",
        "medianimages = medianimages[:7000]\n",
        "medianLabel = medianLabel[:7000]\n",
        "medianLabel = np.array(medianLabel)\n",
        "medianimages = np.array(medianimages)\n",
        "pos_ = len(np.where(medianLabel==1)[0])\n",
        "neg_ = len(np.where(medianLabel==0)[0])\n",
        "biasMedian = np.log([pos_/neg_])\n",
        "biasMedian = tf.keras.initializers.Constant(biasMedian)\n",
        "\n",
        "X_train4, X_test4, y_train4, y_test4 = train_test_split(medianimages, medianLabel, test_size=0.19, random_state=1)\n",
        "X_test4, X_val4, y_test4, y_val4 = train_test_split(X_test4, y_test4, test_size=9/19, random_state=1)\n",
        "datagen4 = makeGenerator()\n",
        "datagen4.fit(X_train4)"
      ]
    },
    {
      "cell_type": "code",
      "execution_count": 18,
      "metadata": {
        "id": "UQdYLshO_LZZ"
      },
      "outputs": [],
      "source": [
        "medianimages2 = joblib.load(\"/content/drive/MyDrive/dataset/aug_med\")\n",
        "medianLabel2 = joblib.load(\"/content/drive/MyDrive/dataset/labels_\")\n",
        "medianimages2 = medianimages2[:7000]\n",
        "medianLabel2 = medianLabel2[:7000]\n",
        "medianLabel2 = np.array(medianLabel2)\n",
        "medianimages2 = np.array(medianimages2)\n",
        "pos_2 = len(np.where(medianLabel2==1)[0])\n",
        "neg_2 = len(np.where(medianLabel2==0)[0])\n",
        "biasMedian2 = np.log([pos_2/neg_2])\n",
        "biasMedian2 = tf.keras.initializers.Constant(biasMedian2)\n",
        "\n",
        "X_train5, X_test5, y_train5, y_test5 = train_test_split(medianimages2, medianLabel2, test_size=0.19, random_state=1)\n",
        "X_test5, X_val5, y_test5, y_val5 = train_test_split(X_test5, y_test5, test_size=9/19, random_state=1)\n",
        "datagen5 = makeGenerator()\n",
        "datagen5.fit(X_train5)"
      ]
    },
    {
      "cell_type": "code",
      "execution_count": 19,
      "metadata": {
        "colab": {
          "base_uri": "https://localhost:8080/"
        },
        "id": "3q_KFsWt-nzu",
        "outputId": "c433ab4e-5202-4cc6-ad6c-5c88b37d98d8"
      },
      "outputs": [
        {
          "output_type": "execute_result",
          "data": {
            "text/plain": [
              "(7000, 50, 50, 3)"
            ]
          },
          "metadata": {},
          "execution_count": 19
        }
      ],
      "source": [
        "rescaled.shape"
      ]
    },
    {
      "cell_type": "code",
      "execution_count": 20,
      "metadata": {
        "id": "HW8IpGkw_LWS"
      },
      "outputs": [],
      "source": [
        "X_train6, X_test6, y_train6, y_test6 = train_test_split(rescaled, Labels2.astype(int), test_size=0.19, random_state=1)\n",
        "X_test6, X_val6, y_test6, y_val6 = train_test_split(X_test6, y_test6, test_size=9/19, random_state=1)\n",
        "datagen6 = makeGenerator()\n",
        "datagen6.fit(X_train6)"
      ]
    },
    {
      "cell_type": "code",
      "execution_count": 21,
      "metadata": {
        "id": "rnHpMZhG_LTR"
      },
      "outputs": [],
      "source": [
        "X_train7, X_test7, y_train7, y_test7 = train_test_split(np.array(adapt_equalised), Labels2.astype(int), test_size=0.19, random_state=1)\n",
        "X_test7, X_val7, y_test7, y_val7 = train_test_split(X_test7, y_test7, test_size=9/19, random_state=1)\n",
        "datagen7 = makeGenerator()\n",
        "datagen7.fit(X_train7)"
      ]
    },
    {
      "cell_type": "markdown",
      "metadata": {
        "id": "xFtYlaghTu6H"
      },
      "source": [
        "## Xception model"
      ]
    },
    {
      "cell_type": "code",
      "execution_count": null,
      "metadata": {
        "colab": {
          "base_uri": "https://localhost:8080/"
        },
        "id": "WypkUgmZ7yRs",
        "outputId": "73dfab3b-b91a-43bb-ad5a-7ab478f9f90f"
      },
      "outputs": [
        {
          "name": "stdout",
          "output_type": "stream",
          "text": [
            "Model: \"model_2\"\n",
            "_________________________________________________________________\n",
            " Layer (type)                Output Shape              Param #   \n",
            "=================================================================\n",
            " input_6 (InputLayer)        [(None, 71, 71, 3)]       0         \n",
            "                                                                 \n",
            " xception (Functional)       (None, 3, 3, 2048)        20861480  \n",
            "                                                                 \n",
            " global_average_pooling2d_2   (None, 2048)             0         \n",
            " (GlobalAveragePooling2D)                                        \n",
            "                                                                 \n",
            " dense_2 (Dense)             (None, 1)                 2049      \n",
            "                                                                 \n",
            "=================================================================\n",
            "Total params: 20,863,529\n",
            "Trainable params: 2,049\n",
            "Non-trainable params: 20,861,480\n",
            "_________________________________________________________________\n"
          ]
        }
      ],
      "source": [
        "xctl = TLxcModel((71,71,3),biasMedian2)\n",
        "xctl.compile(optimizer=tf.keras.optimizers.Adam(1e-2),\n",
        "              loss=tf.keras.losses.BinaryCrossentropy(from_logits=True),\n",
        "              metrics=METRICS)\n",
        "xctl.summary()"
      ]
    },
    {
      "cell_type": "code",
      "execution_count": null,
      "metadata": {
        "colab": {
          "base_uri": "https://localhost:8080/"
        },
        "id": "PZ9B638ZsCcE",
        "outputId": "3e25295b-f485-435d-8a23-5058897a65f7"
      },
      "outputs": [
        {
          "name": "stdout",
          "output_type": "stream",
          "text": [
            "Epoch 1/50\n"
          ]
        },
        {
          "name": "stderr",
          "output_type": "stream",
          "text": [
            "/usr/local/lib/python3.7/dist-packages/tensorflow/python/util/dispatch.py:1096: UserWarning: \"`binary_crossentropy` received `from_logits=True`, but the `output` argument was produced by a sigmoid or softmax activation and thus does not represent logits. Was this intended?\"\n",
            "  return dispatch_target(*args, **kwargs)\n"
          ]
        },
        {
          "name": "stdout",
          "output_type": "stream",
          "text": [
            "45/45 [==============================] - 12s 219ms/step - loss: 0.5795 - tp: 247.0000 - fp: 343.0000 - tn: 4541.0000 - fn: 539.0000 - accuracy: 0.8444 - precision: 0.4186 - recall: 0.3142 - auc: 0.7247 - prc: 0.3659 - val_loss: 0.2740 - val_tp: 31.0000 - val_fp: 4.0000 - val_tn: 533.0000 - val_fn: 62.0000 - val_accuracy: 0.8952 - val_precision: 0.8857 - val_recall: 0.3333 - val_auc: 0.8970 - val_prc: 0.7309\n",
            "Epoch 2/50\n",
            "45/45 [==============================] - 8s 187ms/step - loss: 0.2727 - tp: 350.0000 - fp: 139.0000 - tn: 4745.0000 - fn: 436.0000 - accuracy: 0.8986 - precision: 0.7157 - recall: 0.4453 - auc: 0.8719 - prc: 0.6331 - val_loss: 0.2404 - val_tp: 53.0000 - val_fp: 16.0000 - val_tn: 521.0000 - val_fn: 40.0000 - val_accuracy: 0.9111 - val_precision: 0.7681 - val_recall: 0.5699 - val_auc: 0.9036 - val_prc: 0.7405\n",
            "Epoch 3/50\n",
            "45/45 [==============================] - 8s 186ms/step - loss: 0.2798 - tp: 364.0000 - fp: 180.0000 - tn: 4704.0000 - fn: 422.0000 - accuracy: 0.8938 - precision: 0.6691 - recall: 0.4631 - auc: 0.8708 - prc: 0.6125 - val_loss: 0.2626 - val_tp: 47.0000 - val_fp: 15.0000 - val_tn: 522.0000 - val_fn: 46.0000 - val_accuracy: 0.9032 - val_precision: 0.7581 - val_recall: 0.5054 - val_auc: 0.8784 - val_prc: 0.7156\n",
            "Epoch 4/50\n",
            "45/45 [==============================] - 8s 183ms/step - loss: 0.2694 - tp: 373.0000 - fp: 155.0000 - tn: 4729.0000 - fn: 413.0000 - accuracy: 0.8998 - precision: 0.7064 - recall: 0.4746 - auc: 0.8792 - prc: 0.6467 - val_loss: 0.2639 - val_tp: 44.0000 - val_fp: 10.0000 - val_tn: 527.0000 - val_fn: 49.0000 - val_accuracy: 0.9063 - val_precision: 0.8148 - val_recall: 0.4731 - val_auc: 0.9010 - val_prc: 0.7366\n",
            "Epoch 5/50\n",
            "45/45 [==============================] - 8s 180ms/step - loss: 0.2495 - tp: 385.0000 - fp: 146.0000 - tn: 4738.0000 - fn: 401.0000 - accuracy: 0.9035 - precision: 0.7250 - recall: 0.4898 - auc: 0.8944 - prc: 0.6761 - val_loss: 0.2471 - val_tp: 48.0000 - val_fp: 11.0000 - val_tn: 526.0000 - val_fn: 45.0000 - val_accuracy: 0.9111 - val_precision: 0.8136 - val_recall: 0.5161 - val_auc: 0.9019 - val_prc: 0.7285\n",
            "Epoch 6/50\n",
            "45/45 [==============================] - 8s 181ms/step - loss: 0.2573 - tp: 408.0000 - fp: 176.0000 - tn: 4708.0000 - fn: 378.0000 - accuracy: 0.9023 - precision: 0.6986 - recall: 0.5191 - auc: 0.8930 - prc: 0.6635 - val_loss: 0.2854 - val_tp: 32.0000 - val_fp: 7.0000 - val_tn: 530.0000 - val_fn: 61.0000 - val_accuracy: 0.8921 - val_precision: 0.8205 - val_recall: 0.3441 - val_auc: 0.8949 - val_prc: 0.7097\n",
            "Epoch 7/50\n",
            "45/45 [==============================] - 8s 188ms/step - loss: 0.3351 - tp: 375.0000 - fp: 218.0000 - tn: 4666.0000 - fn: 411.0000 - accuracy: 0.8891 - precision: 0.6324 - recall: 0.4771 - auc: 0.8517 - prc: 0.5814 - val_loss: 0.2821 - val_tp: 40.0000 - val_fp: 14.0000 - val_tn: 523.0000 - val_fn: 53.0000 - val_accuracy: 0.8937 - val_precision: 0.7407 - val_recall: 0.4301 - val_auc: 0.8921 - val_prc: 0.6767\n",
            "Epoch 8/50\n",
            "45/45 [==============================] - 8s 184ms/step - loss: 0.2577 - tp: 406.0000 - fp: 158.0000 - tn: 4726.0000 - fn: 380.0000 - accuracy: 0.9051 - precision: 0.7199 - recall: 0.5165 - auc: 0.8960 - prc: 0.6619 - val_loss: 0.2632 - val_tp: 38.0000 - val_fp: 6.0000 - val_tn: 531.0000 - val_fn: 55.0000 - val_accuracy: 0.9032 - val_precision: 0.8636 - val_recall: 0.4086 - val_auc: 0.9055 - val_prc: 0.7531\n",
            "Epoch 9/50\n",
            "45/45 [==============================] - 8s 187ms/step - loss: 0.2684 - tp: 401.0000 - fp: 188.0000 - tn: 4696.0000 - fn: 385.0000 - accuracy: 0.8989 - precision: 0.6808 - recall: 0.5102 - auc: 0.8850 - prc: 0.6478 - val_loss: 0.3385 - val_tp: 23.0000 - val_fp: 6.0000 - val_tn: 531.0000 - val_fn: 70.0000 - val_accuracy: 0.8794 - val_precision: 0.7931 - val_recall: 0.2473 - val_auc: 0.8828 - val_prc: 0.6433\n",
            "Epoch 10/50\n",
            "45/45 [==============================] - 8s 185ms/step - loss: 0.2709 - tp: 410.0000 - fp: 191.0000 - tn: 4693.0000 - fn: 376.0000 - accuracy: 0.9000 - precision: 0.6822 - recall: 0.5216 - auc: 0.8845 - prc: 0.6638 - val_loss: 0.2456 - val_tp: 57.0000 - val_fp: 22.0000 - val_tn: 515.0000 - val_fn: 36.0000 - val_accuracy: 0.9079 - val_precision: 0.7215 - val_recall: 0.6129 - val_auc: 0.9079 - val_prc: 0.7229\n",
            "Epoch 11/50\n",
            "45/45 [==============================] - 8s 180ms/step - loss: 0.2481 - tp: 423.0000 - fp: 154.0000 - tn: 4730.0000 - fn: 363.0000 - accuracy: 0.9088 - precision: 0.7331 - recall: 0.5382 - auc: 0.9010 - prc: 0.6850 - val_loss: 0.3132 - val_tp: 31.0000 - val_fp: 7.0000 - val_tn: 530.0000 - val_fn: 62.0000 - val_accuracy: 0.8905 - val_precision: 0.8158 - val_recall: 0.3333 - val_auc: 0.8866 - val_prc: 0.6857\n",
            "Epoch 12/50\n",
            "45/45 [==============================] - 8s 186ms/step - loss: 0.2914 - tp: 401.0000 - fp: 205.0000 - tn: 4679.0000 - fn: 385.0000 - accuracy: 0.8959 - precision: 0.6617 - recall: 0.5102 - auc: 0.8773 - prc: 0.6275 - val_loss: 0.2669 - val_tp: 43.0000 - val_fp: 15.0000 - val_tn: 522.0000 - val_fn: 50.0000 - val_accuracy: 0.8968 - val_precision: 0.7414 - val_recall: 0.4624 - val_auc: 0.9010 - val_prc: 0.7033\n",
            "Epoch 13/50\n",
            "45/45 [==============================] - 9s 190ms/step - loss: 0.2696 - tp: 400.0000 - fp: 167.0000 - tn: 4717.0000 - fn: 386.0000 - accuracy: 0.9025 - precision: 0.7055 - recall: 0.5089 - auc: 0.8866 - prc: 0.6552 - val_loss: 0.2622 - val_tp: 59.0000 - val_fp: 30.0000 - val_tn: 507.0000 - val_fn: 34.0000 - val_accuracy: 0.8984 - val_precision: 0.6629 - val_recall: 0.6344 - val_auc: 0.9186 - val_prc: 0.6993\n",
            "Epoch 14/50\n",
            "45/45 [==============================] - 8s 188ms/step - loss: 0.2596 - tp: 426.0000 - fp: 182.0000 - tn: 4702.0000 - fn: 360.0000 - accuracy: 0.9044 - precision: 0.7007 - recall: 0.5420 - auc: 0.8931 - prc: 0.6860 - val_loss: 0.2761 - val_tp: 42.0000 - val_fp: 11.0000 - val_tn: 526.0000 - val_fn: 51.0000 - val_accuracy: 0.9016 - val_precision: 0.7925 - val_recall: 0.4516 - val_auc: 0.8971 - val_prc: 0.6928\n",
            "Epoch 15/50\n",
            "45/45 [==============================] - 8s 181ms/step - loss: 0.2670 - tp: 418.0000 - fp: 194.0000 - tn: 4690.0000 - fn: 368.0000 - accuracy: 0.9009 - precision: 0.6830 - recall: 0.5318 - auc: 0.8950 - prc: 0.6630 - val_loss: 0.2597 - val_tp: 54.0000 - val_fp: 18.0000 - val_tn: 519.0000 - val_fn: 39.0000 - val_accuracy: 0.9095 - val_precision: 0.7500 - val_recall: 0.5806 - val_auc: 0.9089 - val_prc: 0.7107\n",
            "Epoch 16/50\n",
            "45/45 [==============================] - 8s 184ms/step - loss: 0.2541 - tp: 421.0000 - fp: 176.0000 - tn: 4708.0000 - fn: 365.0000 - accuracy: 0.9046 - precision: 0.7052 - recall: 0.5356 - auc: 0.8975 - prc: 0.6849 - val_loss: 0.2412 - val_tp: 63.0000 - val_fp: 27.0000 - val_tn: 510.0000 - val_fn: 30.0000 - val_accuracy: 0.9095 - val_precision: 0.7000 - val_recall: 0.6774 - val_auc: 0.9175 - val_prc: 0.7499\n",
            "Epoch 17/50\n",
            "45/45 [==============================] - 8s 184ms/step - loss: 0.3002 - tp: 421.0000 - fp: 230.0000 - tn: 4654.0000 - fn: 365.0000 - accuracy: 0.8951 - precision: 0.6467 - recall: 0.5356 - auc: 0.8710 - prc: 0.6402 - val_loss: 0.3214 - val_tp: 43.0000 - val_fp: 9.0000 - val_tn: 528.0000 - val_fn: 50.0000 - val_accuracy: 0.9063 - val_precision: 0.8269 - val_recall: 0.4624 - val_auc: 0.8889 - val_prc: 0.7062\n",
            "Epoch 18/50\n",
            "45/45 [==============================] - 8s 182ms/step - loss: 0.2493 - tp: 431.0000 - fp: 174.0000 - tn: 4710.0000 - fn: 355.0000 - accuracy: 0.9067 - precision: 0.7124 - recall: 0.5483 - auc: 0.9007 - prc: 0.7000 - val_loss: 0.2787 - val_tp: 57.0000 - val_fp: 39.0000 - val_tn: 498.0000 - val_fn: 36.0000 - val_accuracy: 0.8810 - val_precision: 0.5938 - val_recall: 0.6129 - val_auc: 0.9055 - val_prc: 0.6911\n",
            "Epoch 19/50\n",
            "45/45 [==============================] - 8s 183ms/step - loss: 0.2455 - tp: 428.0000 - fp: 161.0000 - tn: 4723.0000 - fn: 358.0000 - accuracy: 0.9085 - precision: 0.7267 - recall: 0.5445 - auc: 0.9035 - prc: 0.7004 - val_loss: 0.2999 - val_tp: 32.0000 - val_fp: 5.0000 - val_tn: 532.0000 - val_fn: 61.0000 - val_accuracy: 0.8952 - val_precision: 0.8649 - val_recall: 0.3441 - val_auc: 0.9015 - val_prc: 0.7305\n",
            "Epoch 20/50\n",
            "45/45 [==============================] - 8s 183ms/step - loss: 0.2852 - tp: 422.0000 - fp: 202.0000 - tn: 4682.0000 - fn: 364.0000 - accuracy: 0.9002 - precision: 0.6763 - recall: 0.5369 - auc: 0.8827 - prc: 0.6544 - val_loss: 0.2574 - val_tp: 64.0000 - val_fp: 25.0000 - val_tn: 512.0000 - val_fn: 29.0000 - val_accuracy: 0.9143 - val_precision: 0.7191 - val_recall: 0.6882 - val_auc: 0.9048 - val_prc: 0.7332\n",
            "Epoch 21/50\n",
            "45/45 [==============================] - 8s 185ms/step - loss: 0.2518 - tp: 444.0000 - fp: 168.0000 - tn: 4716.0000 - fn: 342.0000 - accuracy: 0.9101 - precision: 0.7255 - recall: 0.5649 - auc: 0.9018 - prc: 0.6969 - val_loss: 0.2679 - val_tp: 57.0000 - val_fp: 27.0000 - val_tn: 510.0000 - val_fn: 36.0000 - val_accuracy: 0.9000 - val_precision: 0.6786 - val_recall: 0.6129 - val_auc: 0.8948 - val_prc: 0.7045\n",
            "Epoch 22/50\n",
            "45/45 [==============================] - 8s 187ms/step - loss: 0.2543 - tp: 438.0000 - fp: 188.0000 - tn: 4696.0000 - fn: 348.0000 - accuracy: 0.9055 - precision: 0.6997 - recall: 0.5573 - auc: 0.9031 - prc: 0.6840 - val_loss: 0.2811 - val_tp: 39.0000 - val_fp: 13.0000 - val_tn: 524.0000 - val_fn: 54.0000 - val_accuracy: 0.8937 - val_precision: 0.7500 - val_recall: 0.4194 - val_auc: 0.8918 - val_prc: 0.7125\n",
            "Epoch 23/50\n",
            "45/45 [==============================] - 8s 184ms/step - loss: 0.2468 - tp: 440.0000 - fp: 175.0000 - tn: 4709.0000 - fn: 346.0000 - accuracy: 0.9081 - precision: 0.7154 - recall: 0.5598 - auc: 0.9050 - prc: 0.6953 - val_loss: 0.3015 - val_tp: 40.0000 - val_fp: 6.0000 - val_tn: 531.0000 - val_fn: 53.0000 - val_accuracy: 0.9063 - val_precision: 0.8696 - val_recall: 0.4301 - val_auc: 0.8826 - val_prc: 0.7165\n",
            "Epoch 24/50\n",
            "45/45 [==============================] - 8s 184ms/step - loss: 0.2742 - tp: 430.0000 - fp: 188.0000 - tn: 4696.0000 - fn: 356.0000 - accuracy: 0.9041 - precision: 0.6958 - recall: 0.5471 - auc: 0.8898 - prc: 0.6598 - val_loss: 0.2734 - val_tp: 49.0000 - val_fp: 20.0000 - val_tn: 517.0000 - val_fn: 44.0000 - val_accuracy: 0.8984 - val_precision: 0.7101 - val_recall: 0.5269 - val_auc: 0.8985 - val_prc: 0.6737\n",
            "Epoch 25/50\n",
            "45/45 [==============================] - 8s 180ms/step - loss: 0.2660 - tp: 410.0000 - fp: 183.0000 - tn: 4701.0000 - fn: 376.0000 - accuracy: 0.9014 - precision: 0.6914 - recall: 0.5216 - auc: 0.8969 - prc: 0.6547 - val_loss: 0.2550 - val_tp: 51.0000 - val_fp: 20.0000 - val_tn: 517.0000 - val_fn: 42.0000 - val_accuracy: 0.9016 - val_precision: 0.7183 - val_recall: 0.5484 - val_auc: 0.9075 - val_prc: 0.7115\n",
            "Epoch 26/50\n",
            "45/45 [==============================] - 8s 183ms/step - loss: 0.2467 - tp: 450.0000 - fp: 179.0000 - tn: 4705.0000 - fn: 336.0000 - accuracy: 0.9092 - precision: 0.7154 - recall: 0.5725 - auc: 0.9064 - prc: 0.7083 - val_loss: 0.2929 - val_tp: 35.0000 - val_fp: 5.0000 - val_tn: 532.0000 - val_fn: 58.0000 - val_accuracy: 0.9000 - val_precision: 0.8750 - val_recall: 0.3763 - val_auc: 0.9081 - val_prc: 0.7231\n",
            "Epoch 27/50\n",
            "45/45 [==============================] - 8s 188ms/step - loss: 0.2647 - tp: 432.0000 - fp: 189.0000 - tn: 4695.0000 - fn: 354.0000 - accuracy: 0.9042 - precision: 0.6957 - recall: 0.5496 - auc: 0.8986 - prc: 0.6668 - val_loss: 0.2538 - val_tp: 47.0000 - val_fp: 10.0000 - val_tn: 527.0000 - val_fn: 46.0000 - val_accuracy: 0.9111 - val_precision: 0.8246 - val_recall: 0.5054 - val_auc: 0.9032 - val_prc: 0.7538\n",
            "Epoch 28/50\n",
            "45/45 [==============================] - 9s 188ms/step - loss: 0.2571 - tp: 457.0000 - fp: 184.0000 - tn: 4700.0000 - fn: 329.0000 - accuracy: 0.9095 - precision: 0.7129 - recall: 0.5814 - auc: 0.9016 - prc: 0.6892 - val_loss: 0.2872 - val_tp: 56.0000 - val_fp: 36.0000 - val_tn: 501.0000 - val_fn: 37.0000 - val_accuracy: 0.8841 - val_precision: 0.6087 - val_recall: 0.6022 - val_auc: 0.8885 - val_prc: 0.6902\n",
            "Epoch 29/50\n",
            "45/45 [==============================] - 8s 184ms/step - loss: 0.2767 - tp: 428.0000 - fp: 192.0000 - tn: 4692.0000 - fn: 358.0000 - accuracy: 0.9030 - precision: 0.6903 - recall: 0.5445 - auc: 0.8919 - prc: 0.6628 - val_loss: 0.2335 - val_tp: 51.0000 - val_fp: 7.0000 - val_tn: 530.0000 - val_fn: 42.0000 - val_accuracy: 0.9222 - val_precision: 0.8793 - val_recall: 0.5484 - val_auc: 0.9188 - val_prc: 0.7817\n",
            "Epoch 30/50\n",
            "45/45 [==============================] - 8s 186ms/step - loss: 0.2668 - tp: 430.0000 - fp: 191.0000 - tn: 4693.0000 - fn: 356.0000 - accuracy: 0.9035 - precision: 0.6924 - recall: 0.5471 - auc: 0.8953 - prc: 0.6749 - val_loss: 0.3143 - val_tp: 38.0000 - val_fp: 3.0000 - val_tn: 534.0000 - val_fn: 55.0000 - val_accuracy: 0.9079 - val_precision: 0.9268 - val_recall: 0.4086 - val_auc: 0.8981 - val_prc: 0.7524\n",
            "Epoch 31/50\n",
            "45/45 [==============================] - 8s 187ms/step - loss: 0.2863 - tp: 419.0000 - fp: 196.0000 - tn: 4688.0000 - fn: 367.0000 - accuracy: 0.9007 - precision: 0.6813 - recall: 0.5331 - auc: 0.8870 - prc: 0.6503 - val_loss: 0.3856 - val_tp: 24.0000 - val_fp: 3.0000 - val_tn: 534.0000 - val_fn: 69.0000 - val_accuracy: 0.8857 - val_precision: 0.8889 - val_recall: 0.2581 - val_auc: 0.8760 - val_prc: 0.6741\n",
            "Epoch 32/50\n",
            "45/45 [==============================] - 8s 181ms/step - loss: 0.2699 - tp: 438.0000 - fp: 179.0000 - tn: 4705.0000 - fn: 348.0000 - accuracy: 0.9071 - precision: 0.7099 - recall: 0.5573 - auc: 0.8883 - prc: 0.6789 - val_loss: 0.2827 - val_tp: 62.0000 - val_fp: 34.0000 - val_tn: 503.0000 - val_fn: 31.0000 - val_accuracy: 0.8968 - val_precision: 0.6458 - val_recall: 0.6667 - val_auc: 0.9011 - val_prc: 0.7081\n",
            "Epoch 33/50\n",
            "45/45 [==============================] - 8s 184ms/step - loss: 0.2501 - tp: 443.0000 - fp: 187.0000 - tn: 4697.0000 - fn: 343.0000 - accuracy: 0.9065 - precision: 0.7032 - recall: 0.5636 - auc: 0.9061 - prc: 0.6955 - val_loss: 0.2687 - val_tp: 42.0000 - val_fp: 14.0000 - val_tn: 523.0000 - val_fn: 51.0000 - val_accuracy: 0.8968 - val_precision: 0.7500 - val_recall: 0.4516 - val_auc: 0.9032 - val_prc: 0.7052\n",
            "Epoch 34/50\n",
            "45/45 [==============================] - 8s 181ms/step - loss: 0.2545 - tp: 450.0000 - fp: 173.0000 - tn: 4711.0000 - fn: 336.0000 - accuracy: 0.9102 - precision: 0.7223 - recall: 0.5725 - auc: 0.9009 - prc: 0.6896 - val_loss: 0.2387 - val_tp: 46.0000 - val_fp: 8.0000 - val_tn: 529.0000 - val_fn: 47.0000 - val_accuracy: 0.9127 - val_precision: 0.8519 - val_recall: 0.4946 - val_auc: 0.9183 - val_prc: 0.7473\n",
            "Epoch 35/50\n",
            "45/45 [==============================] - 8s 180ms/step - loss: 0.2625 - tp: 439.0000 - fp: 175.0000 - tn: 4709.0000 - fn: 347.0000 - accuracy: 0.9079 - precision: 0.7150 - recall: 0.5585 - auc: 0.8966 - prc: 0.6862 - val_loss: 0.3575 - val_tp: 75.0000 - val_fp: 70.0000 - val_tn: 467.0000 - val_fn: 18.0000 - val_accuracy: 0.8603 - val_precision: 0.5172 - val_recall: 0.8065 - val_auc: 0.9207 - val_prc: 0.7223\n",
            "Epoch 36/50\n",
            "45/45 [==============================] - 8s 187ms/step - loss: 0.3551 - tp: 405.0000 - fp: 252.0000 - tn: 4632.0000 - fn: 381.0000 - accuracy: 0.8884 - precision: 0.6164 - recall: 0.5153 - auc: 0.8596 - prc: 0.6031 - val_loss: 0.3453 - val_tp: 64.0000 - val_fp: 61.0000 - val_tn: 476.0000 - val_fn: 29.0000 - val_accuracy: 0.8571 - val_precision: 0.5120 - val_recall: 0.6882 - val_auc: 0.9048 - val_prc: 0.6849\n",
            "Epoch 37/50\n",
            "45/45 [==============================] - 8s 186ms/step - loss: 0.2959 - tp: 447.0000 - fp: 202.0000 - tn: 4682.0000 - fn: 339.0000 - accuracy: 0.9046 - precision: 0.6888 - recall: 0.5687 - auc: 0.8884 - prc: 0.6667 - val_loss: 0.3036 - val_tp: 38.0000 - val_fp: 8.0000 - val_tn: 529.0000 - val_fn: 55.0000 - val_accuracy: 0.9000 - val_precision: 0.8261 - val_recall: 0.4086 - val_auc: 0.8893 - val_prc: 0.7074\n",
            "Epoch 38/50\n",
            "45/45 [==============================] - 8s 186ms/step - loss: 0.2846 - tp: 419.0000 - fp: 192.0000 - tn: 4692.0000 - fn: 367.0000 - accuracy: 0.9014 - precision: 0.6858 - recall: 0.5331 - auc: 0.8878 - prc: 0.6579 - val_loss: 0.2783 - val_tp: 61.0000 - val_fp: 26.0000 - val_tn: 511.0000 - val_fn: 32.0000 - val_accuracy: 0.9079 - val_precision: 0.7011 - val_recall: 0.6559 - val_auc: 0.9006 - val_prc: 0.6944\n",
            "Epoch 39/50\n",
            "45/45 [==============================] - 8s 183ms/step - loss: 0.2934 - tp: 435.0000 - fp: 223.0000 - tn: 4661.0000 - fn: 351.0000 - accuracy: 0.8988 - precision: 0.6611 - recall: 0.5534 - auc: 0.8827 - prc: 0.6647 - val_loss: 0.3830 - val_tp: 30.0000 - val_fp: 6.0000 - val_tn: 531.0000 - val_fn: 63.0000 - val_accuracy: 0.8905 - val_precision: 0.8333 - val_recall: 0.3226 - val_auc: 0.8518 - val_prc: 0.6642\n",
            "Epoch 40/50\n",
            "45/45 [==============================] - 8s 187ms/step - loss: 0.2638 - tp: 455.0000 - fp: 194.0000 - tn: 4690.0000 - fn: 331.0000 - accuracy: 0.9074 - precision: 0.7011 - recall: 0.5789 - auc: 0.8991 - prc: 0.6887 - val_loss: 0.3334 - val_tp: 30.0000 - val_fp: 3.0000 - val_tn: 534.0000 - val_fn: 63.0000 - val_accuracy: 0.8952 - val_precision: 0.9091 - val_recall: 0.3226 - val_auc: 0.8822 - val_prc: 0.7066\n",
            "Epoch 41/50\n",
            "45/45 [==============================] - 9s 189ms/step - loss: 0.2444 - tp: 448.0000 - fp: 179.0000 - tn: 4705.0000 - fn: 338.0000 - accuracy: 0.9088 - precision: 0.7145 - recall: 0.5700 - auc: 0.9103 - prc: 0.7082 - val_loss: 0.2912 - val_tp: 49.0000 - val_fp: 14.0000 - val_tn: 523.0000 - val_fn: 44.0000 - val_accuracy: 0.9079 - val_precision: 0.7778 - val_recall: 0.5269 - val_auc: 0.8780 - val_prc: 0.6859\n",
            "Epoch 42/50\n",
            "45/45 [==============================] - 9s 190ms/step - loss: 0.2545 - tp: 457.0000 - fp: 167.0000 - tn: 4717.0000 - fn: 329.0000 - accuracy: 0.9125 - precision: 0.7324 - recall: 0.5814 - auc: 0.8989 - prc: 0.7067 - val_loss: 0.2445 - val_tp: 39.0000 - val_fp: 10.0000 - val_tn: 527.0000 - val_fn: 54.0000 - val_accuracy: 0.8984 - val_precision: 0.7959 - val_recall: 0.4194 - val_auc: 0.9215 - val_prc: 0.7454\n",
            "Epoch 43/50\n",
            "45/45 [==============================] - 8s 187ms/step - loss: 0.2500 - tp: 457.0000 - fp: 173.0000 - tn: 4711.0000 - fn: 329.0000 - accuracy: 0.9115 - precision: 0.7254 - recall: 0.5814 - auc: 0.9042 - prc: 0.7079 - val_loss: 0.2222 - val_tp: 54.0000 - val_fp: 19.0000 - val_tn: 518.0000 - val_fn: 39.0000 - val_accuracy: 0.9079 - val_precision: 0.7397 - val_recall: 0.5806 - val_auc: 0.9248 - val_prc: 0.7800\n",
            "Epoch 44/50\n",
            "45/45 [==============================] - 8s 180ms/step - loss: 0.2668 - tp: 439.0000 - fp: 178.0000 - tn: 4706.0000 - fn: 347.0000 - accuracy: 0.9074 - precision: 0.7115 - recall: 0.5585 - auc: 0.8924 - prc: 0.6882 - val_loss: 0.2422 - val_tp: 58.0000 - val_fp: 15.0000 - val_tn: 522.0000 - val_fn: 35.0000 - val_accuracy: 0.9206 - val_precision: 0.7945 - val_recall: 0.6237 - val_auc: 0.9233 - val_prc: 0.7521\n",
            "Epoch 45/50\n",
            "45/45 [==============================] - 8s 185ms/step - loss: 0.2542 - tp: 444.0000 - fp: 195.0000 - tn: 4689.0000 - fn: 342.0000 - accuracy: 0.9053 - precision: 0.6948 - recall: 0.5649 - auc: 0.9018 - prc: 0.6952 - val_loss: 0.2971 - val_tp: 42.0000 - val_fp: 20.0000 - val_tn: 517.0000 - val_fn: 51.0000 - val_accuracy: 0.8873 - val_precision: 0.6774 - val_recall: 0.4516 - val_auc: 0.8861 - val_prc: 0.6184\n",
            "Epoch 46/50\n",
            "45/45 [==============================] - 8s 186ms/step - loss: 0.2574 - tp: 441.0000 - fp: 174.0000 - tn: 4710.0000 - fn: 345.0000 - accuracy: 0.9085 - precision: 0.7171 - recall: 0.5611 - auc: 0.8991 - prc: 0.6884 - val_loss: 0.2127 - val_tp: 61.0000 - val_fp: 16.0000 - val_tn: 521.0000 - val_fn: 32.0000 - val_accuracy: 0.9238 - val_precision: 0.7922 - val_recall: 0.6559 - val_auc: 0.9411 - val_prc: 0.7703\n",
            "Epoch 47/50\n",
            "45/45 [==============================] - 8s 185ms/step - loss: 0.2466 - tp: 452.0000 - fp: 163.0000 - tn: 4721.0000 - fn: 334.0000 - accuracy: 0.9123 - precision: 0.7350 - recall: 0.5751 - auc: 0.9046 - prc: 0.7123 - val_loss: 0.2530 - val_tp: 48.0000 - val_fp: 10.0000 - val_tn: 527.0000 - val_fn: 45.0000 - val_accuracy: 0.9127 - val_precision: 0.8276 - val_recall: 0.5161 - val_auc: 0.9084 - val_prc: 0.7331\n",
            "Epoch 48/50\n",
            "45/45 [==============================] - 8s 185ms/step - loss: 0.2515 - tp: 423.0000 - fp: 185.0000 - tn: 4699.0000 - fn: 363.0000 - accuracy: 0.9034 - precision: 0.6957 - recall: 0.5382 - auc: 0.9021 - prc: 0.6934 - val_loss: 0.2602 - val_tp: 55.0000 - val_fp: 25.0000 - val_tn: 512.0000 - val_fn: 38.0000 - val_accuracy: 0.9000 - val_precision: 0.6875 - val_recall: 0.5914 - val_auc: 0.9033 - val_prc: 0.6777\n",
            "Epoch 49/50\n",
            "45/45 [==============================] - 8s 188ms/step - loss: 0.2639 - tp: 445.0000 - fp: 184.0000 - tn: 4700.0000 - fn: 341.0000 - accuracy: 0.9074 - precision: 0.7075 - recall: 0.5662 - auc: 0.8969 - prc: 0.6789 - val_loss: 0.3822 - val_tp: 73.0000 - val_fp: 88.0000 - val_tn: 449.0000 - val_fn: 20.0000 - val_accuracy: 0.8286 - val_precision: 0.4534 - val_recall: 0.7849 - val_auc: 0.9044 - val_prc: 0.6734\n",
            "Epoch 50/50\n",
            "45/45 [==============================] - 8s 188ms/step - loss: 0.3266 - tp: 431.0000 - fp: 229.0000 - tn: 4655.0000 - fn: 355.0000 - accuracy: 0.8970 - precision: 0.6530 - recall: 0.5483 - auc: 0.8684 - prc: 0.6252 - val_loss: 0.3132 - val_tp: 41.0000 - val_fp: 9.0000 - val_tn: 528.0000 - val_fn: 52.0000 - val_accuracy: 0.9032 - val_precision: 0.8200 - val_recall: 0.4409 - val_auc: 0.8926 - val_prc: 0.6856\n"
          ]
        }
      ],
      "source": [
        "xcresult = xctl.fit(datagen5.flow(X_train5, y_train5, batch_size=128),\n",
        "         validation_data=datagen5.flow(X_val5, y_val5,\n",
        "         batch_size=8), epochs=50)"
      ]
    },
    {
      "cell_type": "code",
      "execution_count": null,
      "metadata": {
        "colab": {
          "base_uri": "https://localhost:8080/"
        },
        "id": "1hVxPr_zTSbs",
        "outputId": "f20292cb-701d-4fd3-dd23-49cee94ed73d"
      },
      "outputs": [
        {
          "name": "stdout",
          "output_type": "stream",
          "text": [
            "Model: \"model_2\"\n",
            "_________________________________________________________________\n",
            " Layer (type)                Output Shape              Param #   \n",
            "=================================================================\n",
            " input_6 (InputLayer)        [(None, 71, 71, 3)]       0         \n",
            "                                                                 \n",
            " xception (Functional)       (None, 3, 3, 2048)        20861480  \n",
            "                                                                 \n",
            " global_average_pooling2d_2   (None, 2048)             0         \n",
            " (GlobalAveragePooling2D)                                        \n",
            "                                                                 \n",
            " dense_2 (Dense)             (None, 1)                 2049      \n",
            "                                                                 \n",
            "=================================================================\n",
            "Total params: 20,863,529\n",
            "Trainable params: 20,809,001\n",
            "Non-trainable params: 54,528\n",
            "_________________________________________________________________\n"
          ]
        }
      ],
      "source": [
        "xctl.trainable = True\n",
        "xctl.summary()"
      ]
    },
    {
      "cell_type": "code",
      "execution_count": null,
      "metadata": {
        "id": "cxiMZY2GTSXs"
      },
      "outputs": [],
      "source": [
        "xctl.compile(optimizer=tf.keras.optimizers.Adam(1e-5),\n",
        "              loss=tf.keras.losses.BinaryCrossentropy(from_logits=True),\n",
        "              metrics=METRICS)"
      ]
    },
    {
      "cell_type": "code",
      "execution_count": null,
      "metadata": {
        "colab": {
          "base_uri": "https://localhost:8080/"
        },
        "id": "ADMTMt8yTSRx",
        "outputId": "c04ccc75-b1e6-4186-b9bd-0e8302b96b0a"
      },
      "outputs": [
        {
          "name": "stdout",
          "output_type": "stream",
          "text": [
            "Epoch 1/120\n"
          ]
        },
        {
          "name": "stderr",
          "output_type": "stream",
          "text": [
            "/usr/local/lib/python3.7/dist-packages/tensorflow/python/util/dispatch.py:1096: UserWarning: \"`binary_crossentropy` received `from_logits=True`, but the `output` argument was produced by a sigmoid or softmax activation and thus does not represent logits. Was this intended?\"\n",
            "  return dispatch_target(*args, **kwargs)\n"
          ]
        },
        {
          "name": "stdout",
          "output_type": "stream",
          "text": [
            "45/45 [==============================] - 18s 263ms/step - loss: 0.2335 - tp: 513.0000 - fp: 172.0000 - tn: 5249.0000 - fn: 366.0000 - accuracy: 0.9146 - precision: 0.7489 - recall: 0.5836 - auc: 0.9081 - prc: 0.7323 - val_loss: 0.2525 - val_tp: 59.0000 - val_fp: 23.0000 - val_tn: 514.0000 - val_fn: 34.0000 - val_accuracy: 0.9095 - val_precision: 0.7195 - val_recall: 0.6344 - val_auc: 0.9112 - val_prc: 0.7094\n",
            "Epoch 2/120\n",
            "45/45 [==============================] - 10s 221ms/step - loss: 0.1915 - tp: 534.0000 - fp: 148.0000 - tn: 4736.0000 - fn: 252.0000 - accuracy: 0.9295 - precision: 0.7830 - recall: 0.6794 - auc: 0.9434 - prc: 0.7947 - val_loss: 0.1827 - val_tp: 58.0000 - val_fp: 9.0000 - val_tn: 528.0000 - val_fn: 35.0000 - val_accuracy: 0.9302 - val_precision: 0.8657 - val_recall: 0.6237 - val_auc: 0.9580 - val_prc: 0.8214\n",
            "Epoch 3/120\n",
            "45/45 [==============================] - 10s 220ms/step - loss: 0.1791 - tp: 549.0000 - fp: 130.0000 - tn: 4754.0000 - fn: 237.0000 - accuracy: 0.9353 - precision: 0.8085 - recall: 0.6985 - auc: 0.9452 - prc: 0.8237 - val_loss: 0.2053 - val_tp: 58.0000 - val_fp: 17.0000 - val_tn: 520.0000 - val_fn: 35.0000 - val_accuracy: 0.9175 - val_precision: 0.7733 - val_recall: 0.6237 - val_auc: 0.9366 - val_prc: 0.7903\n",
            "Epoch 4/120\n",
            "45/45 [==============================] - 10s 224ms/step - loss: 0.1713 - tp: 562.0000 - fp: 141.0000 - tn: 4743.0000 - fn: 224.0000 - accuracy: 0.9356 - precision: 0.7994 - recall: 0.7150 - auc: 0.9522 - prc: 0.8341 - val_loss: 0.1899 - val_tp: 63.0000 - val_fp: 12.0000 - val_tn: 525.0000 - val_fn: 30.0000 - val_accuracy: 0.9333 - val_precision: 0.8400 - val_recall: 0.6774 - val_auc: 0.9465 - val_prc: 0.8103\n",
            "Epoch 5/120\n",
            "45/45 [==============================] - 10s 222ms/step - loss: 0.1538 - tp: 563.0000 - fp: 111.0000 - tn: 4773.0000 - fn: 223.0000 - accuracy: 0.9411 - precision: 0.8353 - recall: 0.7163 - auc: 0.9619 - prc: 0.8583 - val_loss: 0.1820 - val_tp: 66.0000 - val_fp: 16.0000 - val_tn: 521.0000 - val_fn: 27.0000 - val_accuracy: 0.9317 - val_precision: 0.8049 - val_recall: 0.7097 - val_auc: 0.9544 - val_prc: 0.8326\n",
            "Epoch 6/120\n",
            "45/45 [==============================] - 10s 225ms/step - loss: 0.1592 - tp: 571.0000 - fp: 126.0000 - tn: 4758.0000 - fn: 215.0000 - accuracy: 0.9399 - precision: 0.8192 - recall: 0.7265 - auc: 0.9565 - prc: 0.8590 - val_loss: 0.1744 - val_tp: 62.0000 - val_fp: 13.0000 - val_tn: 524.0000 - val_fn: 31.0000 - val_accuracy: 0.9302 - val_precision: 0.8267 - val_recall: 0.6667 - val_auc: 0.9557 - val_prc: 0.8424\n",
            "Epoch 7/120\n",
            "45/45 [==============================] - 10s 224ms/step - loss: 0.1459 - tp: 578.0000 - fp: 102.0000 - tn: 4782.0000 - fn: 208.0000 - accuracy: 0.9453 - precision: 0.8500 - recall: 0.7354 - auc: 0.9644 - prc: 0.8748 - val_loss: 0.1746 - val_tp: 69.0000 - val_fp: 19.0000 - val_tn: 518.0000 - val_fn: 24.0000 - val_accuracy: 0.9317 - val_precision: 0.7841 - val_recall: 0.7419 - val_auc: 0.9594 - val_prc: 0.8461\n",
            "Epoch 8/120\n",
            "45/45 [==============================] - 10s 221ms/step - loss: 0.1386 - tp: 605.0000 - fp: 91.0000 - tn: 4793.0000 - fn: 181.0000 - accuracy: 0.9520 - precision: 0.8693 - recall: 0.7697 - auc: 0.9667 - prc: 0.8860 - val_loss: 0.1825 - val_tp: 66.0000 - val_fp: 14.0000 - val_tn: 523.0000 - val_fn: 27.0000 - val_accuracy: 0.9349 - val_precision: 0.8250 - val_recall: 0.7097 - val_auc: 0.9574 - val_prc: 0.8336\n",
            "Epoch 9/120\n",
            "45/45 [==============================] - 10s 223ms/step - loss: 0.1348 - tp: 594.0000 - fp: 89.0000 - tn: 4795.0000 - fn: 192.0000 - accuracy: 0.9504 - precision: 0.8697 - recall: 0.7557 - auc: 0.9689 - prc: 0.8930 - val_loss: 0.1563 - val_tp: 69.0000 - val_fp: 16.0000 - val_tn: 521.0000 - val_fn: 24.0000 - val_accuracy: 0.9365 - val_precision: 0.8118 - val_recall: 0.7419 - val_auc: 0.9707 - val_prc: 0.8535\n",
            "Epoch 10/120\n",
            "45/45 [==============================] - 10s 222ms/step - loss: 0.1438 - tp: 593.0000 - fp: 123.0000 - tn: 4761.0000 - fn: 193.0000 - accuracy: 0.9443 - precision: 0.8282 - recall: 0.7545 - auc: 0.9654 - prc: 0.8761 - val_loss: 0.1791 - val_tp: 65.0000 - val_fp: 13.0000 - val_tn: 524.0000 - val_fn: 28.0000 - val_accuracy: 0.9349 - val_precision: 0.8333 - val_recall: 0.6989 - val_auc: 0.9545 - val_prc: 0.8573\n",
            "Epoch 11/120\n",
            "45/45 [==============================] - 10s 220ms/step - loss: 0.1348 - tp: 610.0000 - fp: 92.0000 - tn: 4792.0000 - fn: 176.0000 - accuracy: 0.9527 - precision: 0.8689 - recall: 0.7761 - auc: 0.9694 - prc: 0.8904 - val_loss: 0.1739 - val_tp: 59.0000 - val_fp: 8.0000 - val_tn: 529.0000 - val_fn: 34.0000 - val_accuracy: 0.9333 - val_precision: 0.8806 - val_recall: 0.6344 - val_auc: 0.9614 - val_prc: 0.8518\n",
            "Epoch 12/120\n",
            "45/45 [==============================] - 10s 224ms/step - loss: 0.1266 - tp: 617.0000 - fp: 94.0000 - tn: 4790.0000 - fn: 169.0000 - accuracy: 0.9536 - precision: 0.8678 - recall: 0.7850 - auc: 0.9748 - prc: 0.9031 - val_loss: 0.1587 - val_tp: 76.0000 - val_fp: 14.0000 - val_tn: 523.0000 - val_fn: 17.0000 - val_accuracy: 0.9508 - val_precision: 0.8444 - val_recall: 0.8172 - val_auc: 0.9684 - val_prc: 0.8551\n",
            "Epoch 13/120\n",
            "45/45 [==============================] - 10s 224ms/step - loss: 0.1216 - tp: 632.0000 - fp: 103.0000 - tn: 4781.0000 - fn: 154.0000 - accuracy: 0.9547 - precision: 0.8599 - recall: 0.8041 - auc: 0.9752 - prc: 0.9099 - val_loss: 0.1544 - val_tp: 67.0000 - val_fp: 9.0000 - val_tn: 528.0000 - val_fn: 26.0000 - val_accuracy: 0.9444 - val_precision: 0.8816 - val_recall: 0.7204 - val_auc: 0.9637 - val_prc: 0.8844\n",
            "Epoch 14/120\n",
            "45/45 [==============================] - 10s 221ms/step - loss: 0.1212 - tp: 617.0000 - fp: 88.0000 - tn: 4796.0000 - fn: 169.0000 - accuracy: 0.9547 - precision: 0.8752 - recall: 0.7850 - auc: 0.9764 - prc: 0.9094 - val_loss: 0.1720 - val_tp: 72.0000 - val_fp: 19.0000 - val_tn: 518.0000 - val_fn: 21.0000 - val_accuracy: 0.9365 - val_precision: 0.7912 - val_recall: 0.7742 - val_auc: 0.9600 - val_prc: 0.8445\n",
            "Epoch 15/120\n",
            "45/45 [==============================] - 10s 222ms/step - loss: 0.1175 - tp: 637.0000 - fp: 90.0000 - tn: 4794.0000 - fn: 149.0000 - accuracy: 0.9578 - precision: 0.8762 - recall: 0.8104 - auc: 0.9765 - prc: 0.9160 - val_loss: 0.1713 - val_tp: 64.0000 - val_fp: 14.0000 - val_tn: 523.0000 - val_fn: 29.0000 - val_accuracy: 0.9317 - val_precision: 0.8205 - val_recall: 0.6882 - val_auc: 0.9706 - val_prc: 0.8570\n",
            "Epoch 16/120\n",
            "45/45 [==============================] - 10s 220ms/step - loss: 0.1224 - tp: 631.0000 - fp: 99.0000 - tn: 4785.0000 - fn: 155.0000 - accuracy: 0.9552 - precision: 0.8644 - recall: 0.8028 - auc: 0.9763 - prc: 0.9081 - val_loss: 0.1573 - val_tp: 67.0000 - val_fp: 11.0000 - val_tn: 526.0000 - val_fn: 26.0000 - val_accuracy: 0.9413 - val_precision: 0.8590 - val_recall: 0.7204 - val_auc: 0.9720 - val_prc: 0.8513\n",
            "Epoch 17/120\n",
            "45/45 [==============================] - 10s 223ms/step - loss: 0.1172 - tp: 623.0000 - fp: 90.0000 - tn: 4794.0000 - fn: 163.0000 - accuracy: 0.9554 - precision: 0.8738 - recall: 0.7926 - auc: 0.9755 - prc: 0.9174 - val_loss: 0.1425 - val_tp: 70.0000 - val_fp: 13.0000 - val_tn: 524.0000 - val_fn: 23.0000 - val_accuracy: 0.9429 - val_precision: 0.8434 - val_recall: 0.7527 - val_auc: 0.9771 - val_prc: 0.8868\n",
            "Epoch 18/120\n",
            "45/45 [==============================] - 10s 226ms/step - loss: 0.1062 - tp: 646.0000 - fp: 81.0000 - tn: 4803.0000 - fn: 140.0000 - accuracy: 0.9610 - precision: 0.8886 - recall: 0.8219 - auc: 0.9819 - prc: 0.9270 - val_loss: 0.1417 - val_tp: 72.0000 - val_fp: 12.0000 - val_tn: 525.0000 - val_fn: 21.0000 - val_accuracy: 0.9476 - val_precision: 0.8571 - val_recall: 0.7742 - val_auc: 0.9670 - val_prc: 0.8800\n",
            "Epoch 19/120\n",
            "45/45 [==============================] - 10s 218ms/step - loss: 0.1154 - tp: 630.0000 - fp: 96.0000 - tn: 4788.0000 - fn: 156.0000 - accuracy: 0.9556 - precision: 0.8678 - recall: 0.8015 - auc: 0.9785 - prc: 0.9173 - val_loss: 0.1553 - val_tp: 72.0000 - val_fp: 13.0000 - val_tn: 524.0000 - val_fn: 21.0000 - val_accuracy: 0.9460 - val_precision: 0.8471 - val_recall: 0.7742 - val_auc: 0.9684 - val_prc: 0.8829\n",
            "Epoch 20/120\n",
            "45/45 [==============================] - 10s 224ms/step - loss: 0.1060 - tp: 637.0000 - fp: 86.0000 - tn: 4798.0000 - fn: 149.0000 - accuracy: 0.9586 - precision: 0.8811 - recall: 0.8104 - auc: 0.9818 - prc: 0.9290 - val_loss: 0.1334 - val_tp: 69.0000 - val_fp: 11.0000 - val_tn: 526.0000 - val_fn: 24.0000 - val_accuracy: 0.9444 - val_precision: 0.8625 - val_recall: 0.7419 - val_auc: 0.9760 - val_prc: 0.9054\n",
            "Epoch 21/120\n",
            "45/45 [==============================] - 10s 223ms/step - loss: 0.1016 - tp: 644.0000 - fp: 74.0000 - tn: 4810.0000 - fn: 142.0000 - accuracy: 0.9619 - precision: 0.8969 - recall: 0.8193 - auc: 0.9814 - prc: 0.9322 - val_loss: 0.1392 - val_tp: 74.0000 - val_fp: 11.0000 - val_tn: 526.0000 - val_fn: 19.0000 - val_accuracy: 0.9524 - val_precision: 0.8706 - val_recall: 0.7957 - val_auc: 0.9682 - val_prc: 0.8943\n",
            "Epoch 22/120\n",
            "45/45 [==============================] - 10s 223ms/step - loss: 0.1003 - tp: 662.0000 - fp: 83.0000 - tn: 4801.0000 - fn: 124.0000 - accuracy: 0.9635 - precision: 0.8886 - recall: 0.8422 - auc: 0.9817 - prc: 0.9376 - val_loss: 0.1567 - val_tp: 66.0000 - val_fp: 15.0000 - val_tn: 522.0000 - val_fn: 27.0000 - val_accuracy: 0.9333 - val_precision: 0.8148 - val_recall: 0.7097 - val_auc: 0.9691 - val_prc: 0.8827\n",
            "Epoch 23/120\n",
            "45/45 [==============================] - 10s 223ms/step - loss: 0.0936 - tp: 658.0000 - fp: 63.0000 - tn: 4821.0000 - fn: 128.0000 - accuracy: 0.9663 - precision: 0.9126 - recall: 0.8372 - auc: 0.9854 - prc: 0.9436 - val_loss: 0.1444 - val_tp: 70.0000 - val_fp: 12.0000 - val_tn: 525.0000 - val_fn: 23.0000 - val_accuracy: 0.9444 - val_precision: 0.8537 - val_recall: 0.7527 - val_auc: 0.9723 - val_prc: 0.9015\n",
            "Epoch 24/120\n",
            "45/45 [==============================] - 10s 224ms/step - loss: 0.0943 - tp: 663.0000 - fp: 76.0000 - tn: 4808.0000 - fn: 123.0000 - accuracy: 0.9649 - precision: 0.8972 - recall: 0.8435 - auc: 0.9843 - prc: 0.9417 - val_loss: 0.1551 - val_tp: 78.0000 - val_fp: 15.0000 - val_tn: 522.0000 - val_fn: 15.0000 - val_accuracy: 0.9524 - val_precision: 0.8387 - val_recall: 0.8387 - val_auc: 0.9684 - val_prc: 0.8676\n",
            "Epoch 25/120\n",
            "45/45 [==============================] - 10s 221ms/step - loss: 0.0950 - tp: 660.0000 - fp: 69.0000 - tn: 4815.0000 - fn: 126.0000 - accuracy: 0.9656 - precision: 0.9053 - recall: 0.8397 - auc: 0.9833 - prc: 0.9428 - val_loss: 0.1634 - val_tp: 69.0000 - val_fp: 19.0000 - val_tn: 518.0000 - val_fn: 24.0000 - val_accuracy: 0.9317 - val_precision: 0.7841 - val_recall: 0.7419 - val_auc: 0.9672 - val_prc: 0.8688\n",
            "Epoch 26/120\n",
            "45/45 [==============================] - 10s 224ms/step - loss: 0.0908 - tp: 666.0000 - fp: 65.0000 - tn: 4819.0000 - fn: 120.0000 - accuracy: 0.9674 - precision: 0.9111 - recall: 0.8473 - auc: 0.9865 - prc: 0.9450 - val_loss: 0.1225 - val_tp: 80.0000 - val_fp: 15.0000 - val_tn: 522.0000 - val_fn: 13.0000 - val_accuracy: 0.9556 - val_precision: 0.8421 - val_recall: 0.8602 - val_auc: 0.9806 - val_prc: 0.9210\n",
            "Epoch 27/120\n",
            "45/45 [==============================] - 10s 218ms/step - loss: 0.0971 - tp: 650.0000 - fp: 90.0000 - tn: 4794.0000 - fn: 136.0000 - accuracy: 0.9601 - precision: 0.8784 - recall: 0.8270 - auc: 0.9857 - prc: 0.9389 - val_loss: 0.1546 - val_tp: 81.0000 - val_fp: 18.0000 - val_tn: 519.0000 - val_fn: 12.0000 - val_accuracy: 0.9524 - val_precision: 0.8182 - val_recall: 0.8710 - val_auc: 0.9635 - val_prc: 0.8922\n",
            "Epoch 28/120\n",
            "45/45 [==============================] - 10s 221ms/step - loss: 0.0930 - tp: 666.0000 - fp: 85.0000 - tn: 4799.0000 - fn: 120.0000 - accuracy: 0.9638 - precision: 0.8868 - recall: 0.8473 - auc: 0.9855 - prc: 0.9430 - val_loss: 0.1370 - val_tp: 78.0000 - val_fp: 12.0000 - val_tn: 525.0000 - val_fn: 15.0000 - val_accuracy: 0.9571 - val_precision: 0.8667 - val_recall: 0.8387 - val_auc: 0.9663 - val_prc: 0.9030\n",
            "Epoch 29/120\n",
            "45/45 [==============================] - 10s 225ms/step - loss: 0.0839 - tp: 679.0000 - fp: 66.0000 - tn: 4818.0000 - fn: 107.0000 - accuracy: 0.9695 - precision: 0.9114 - recall: 0.8639 - auc: 0.9866 - prc: 0.9528 - val_loss: 0.1288 - val_tp: 74.0000 - val_fp: 10.0000 - val_tn: 527.0000 - val_fn: 19.0000 - val_accuracy: 0.9540 - val_precision: 0.8810 - val_recall: 0.7957 - val_auc: 0.9773 - val_prc: 0.9065\n",
            "Epoch 30/120\n",
            "45/45 [==============================] - 10s 221ms/step - loss: 0.0856 - tp: 667.0000 - fp: 75.0000 - tn: 4809.0000 - fn: 119.0000 - accuracy: 0.9658 - precision: 0.8989 - recall: 0.8486 - auc: 0.9878 - prc: 0.9520 - val_loss: 0.1401 - val_tp: 73.0000 - val_fp: 10.0000 - val_tn: 527.0000 - val_fn: 20.0000 - val_accuracy: 0.9524 - val_precision: 0.8795 - val_recall: 0.7849 - val_auc: 0.9665 - val_prc: 0.9090\n",
            "Epoch 31/120\n",
            "45/45 [==============================] - 10s 221ms/step - loss: 0.0862 - tp: 681.0000 - fp: 64.0000 - tn: 4820.0000 - fn: 105.0000 - accuracy: 0.9702 - precision: 0.9141 - recall: 0.8664 - auc: 0.9858 - prc: 0.9518 - val_loss: 0.1445 - val_tp: 70.0000 - val_fp: 9.0000 - val_tn: 528.0000 - val_fn: 23.0000 - val_accuracy: 0.9492 - val_precision: 0.8861 - val_recall: 0.7527 - val_auc: 0.9726 - val_prc: 0.8951\n",
            "Epoch 32/120\n",
            "45/45 [==============================] - 10s 221ms/step - loss: 0.0847 - tp: 672.0000 - fp: 62.0000 - tn: 4822.0000 - fn: 114.0000 - accuracy: 0.9690 - precision: 0.9155 - recall: 0.8550 - auc: 0.9867 - prc: 0.9521 - val_loss: 0.1203 - val_tp: 76.0000 - val_fp: 6.0000 - val_tn: 531.0000 - val_fn: 17.0000 - val_accuracy: 0.9635 - val_precision: 0.9268 - val_recall: 0.8172 - val_auc: 0.9797 - val_prc: 0.9257\n",
            "Epoch 33/120\n",
            "45/45 [==============================] - 10s 220ms/step - loss: 0.0881 - tp: 671.0000 - fp: 64.0000 - tn: 4820.0000 - fn: 115.0000 - accuracy: 0.9684 - precision: 0.9129 - recall: 0.8537 - auc: 0.9856 - prc: 0.9497 - val_loss: 0.1089 - val_tp: 76.0000 - val_fp: 9.0000 - val_tn: 528.0000 - val_fn: 17.0000 - val_accuracy: 0.9587 - val_precision: 0.8941 - val_recall: 0.8172 - val_auc: 0.9810 - val_prc: 0.9347\n",
            "Epoch 34/120\n",
            "45/45 [==============================] - 10s 223ms/step - loss: 0.0800 - tp: 682.0000 - fp: 57.0000 - tn: 4827.0000 - fn: 104.0000 - accuracy: 0.9716 - precision: 0.9229 - recall: 0.8677 - auc: 0.9881 - prc: 0.9572 - val_loss: 0.1317 - val_tp: 78.0000 - val_fp: 11.0000 - val_tn: 526.0000 - val_fn: 15.0000 - val_accuracy: 0.9587 - val_precision: 0.8764 - val_recall: 0.8387 - val_auc: 0.9804 - val_prc: 0.9121\n",
            "Epoch 35/120\n",
            "45/45 [==============================] - 10s 218ms/step - loss: 0.0822 - tp: 672.0000 - fp: 56.0000 - tn: 4828.0000 - fn: 114.0000 - accuracy: 0.9700 - precision: 0.9231 - recall: 0.8550 - auc: 0.9892 - prc: 0.9555 - val_loss: 0.1287 - val_tp: 82.0000 - val_fp: 14.0000 - val_tn: 523.0000 - val_fn: 11.0000 - val_accuracy: 0.9603 - val_precision: 0.8542 - val_recall: 0.8817 - val_auc: 0.9791 - val_prc: 0.9113\n",
            "Epoch 36/120\n",
            "45/45 [==============================] - 10s 225ms/step - loss: 0.0828 - tp: 681.0000 - fp: 76.0000 - tn: 4808.0000 - fn: 105.0000 - accuracy: 0.9681 - precision: 0.8996 - recall: 0.8664 - auc: 0.9887 - prc: 0.9545 - val_loss: 0.1246 - val_tp: 77.0000 - val_fp: 13.0000 - val_tn: 524.0000 - val_fn: 16.0000 - val_accuracy: 0.9540 - val_precision: 0.8556 - val_recall: 0.8280 - val_auc: 0.9763 - val_prc: 0.9195\n",
            "Epoch 37/120\n",
            "45/45 [==============================] - 10s 223ms/step - loss: 0.0729 - tp: 694.0000 - fp: 60.0000 - tn: 4824.0000 - fn: 92.0000 - accuracy: 0.9732 - precision: 0.9204 - recall: 0.8830 - auc: 0.9903 - prc: 0.9636 - val_loss: 0.1388 - val_tp: 70.0000 - val_fp: 11.0000 - val_tn: 526.0000 - val_fn: 23.0000 - val_accuracy: 0.9460 - val_precision: 0.8642 - val_recall: 0.7527 - val_auc: 0.9675 - val_prc: 0.9065\n",
            "Epoch 38/120\n",
            "45/45 [==============================] - 10s 219ms/step - loss: 0.0744 - tp: 688.0000 - fp: 57.0000 - tn: 4827.0000 - fn: 98.0000 - accuracy: 0.9727 - precision: 0.9235 - recall: 0.8753 - auc: 0.9897 - prc: 0.9625 - val_loss: 0.1322 - val_tp: 79.0000 - val_fp: 14.0000 - val_tn: 523.0000 - val_fn: 14.0000 - val_accuracy: 0.9556 - val_precision: 0.8495 - val_recall: 0.8495 - val_auc: 0.9739 - val_prc: 0.9071\n",
            "Epoch 39/120\n",
            "45/45 [==============================] - 10s 224ms/step - loss: 0.0681 - tp: 708.0000 - fp: 54.0000 - tn: 4830.0000 - fn: 78.0000 - accuracy: 0.9767 - precision: 0.9291 - recall: 0.9008 - auc: 0.9920 - prc: 0.9674 - val_loss: 0.1420 - val_tp: 74.0000 - val_fp: 11.0000 - val_tn: 526.0000 - val_fn: 19.0000 - val_accuracy: 0.9524 - val_precision: 0.8706 - val_recall: 0.7957 - val_auc: 0.9680 - val_prc: 0.9020\n",
            "Epoch 40/120\n",
            "45/45 [==============================] - 10s 222ms/step - loss: 0.0730 - tp: 687.0000 - fp: 56.0000 - tn: 4828.0000 - fn: 99.0000 - accuracy: 0.9727 - precision: 0.9246 - recall: 0.8740 - auc: 0.9906 - prc: 0.9643 - val_loss: 0.1332 - val_tp: 77.0000 - val_fp: 14.0000 - val_tn: 523.0000 - val_fn: 16.0000 - val_accuracy: 0.9524 - val_precision: 0.8462 - val_recall: 0.8280 - val_auc: 0.9712 - val_prc: 0.9150\n",
            "Epoch 41/120\n",
            "45/45 [==============================] - 10s 225ms/step - loss: 0.0708 - tp: 684.0000 - fp: 51.0000 - tn: 4833.0000 - fn: 102.0000 - accuracy: 0.9730 - precision: 0.9306 - recall: 0.8702 - auc: 0.9913 - prc: 0.9658 - val_loss: 0.1520 - val_tp: 77.0000 - val_fp: 13.0000 - val_tn: 524.0000 - val_fn: 16.0000 - val_accuracy: 0.9540 - val_precision: 0.8556 - val_recall: 0.8280 - val_auc: 0.9621 - val_prc: 0.8789\n",
            "Epoch 42/120\n",
            "45/45 [==============================] - 10s 223ms/step - loss: 0.0735 - tp: 697.0000 - fp: 61.0000 - tn: 4823.0000 - fn: 89.0000 - accuracy: 0.9735 - precision: 0.9195 - recall: 0.8868 - auc: 0.9919 - prc: 0.9622 - val_loss: 0.1353 - val_tp: 72.0000 - val_fp: 10.0000 - val_tn: 527.0000 - val_fn: 21.0000 - val_accuracy: 0.9508 - val_precision: 0.8780 - val_recall: 0.7742 - val_auc: 0.9773 - val_prc: 0.9096\n",
            "Epoch 43/120\n",
            "45/45 [==============================] - 10s 221ms/step - loss: 0.0671 - tp: 700.0000 - fp: 57.0000 - tn: 4827.0000 - fn: 86.0000 - accuracy: 0.9748 - precision: 0.9247 - recall: 0.8906 - auc: 0.9922 - prc: 0.9690 - val_loss: 0.1338 - val_tp: 73.0000 - val_fp: 12.0000 - val_tn: 525.0000 - val_fn: 20.0000 - val_accuracy: 0.9492 - val_precision: 0.8588 - val_recall: 0.7849 - val_auc: 0.9747 - val_prc: 0.9147\n",
            "Epoch 44/120\n",
            "45/45 [==============================] - 10s 221ms/step - loss: 0.0701 - tp: 696.0000 - fp: 58.0000 - tn: 4826.0000 - fn: 90.0000 - accuracy: 0.9739 - precision: 0.9231 - recall: 0.8855 - auc: 0.9903 - prc: 0.9658 - val_loss: 0.1575 - val_tp: 69.0000 - val_fp: 11.0000 - val_tn: 526.0000 - val_fn: 24.0000 - val_accuracy: 0.9444 - val_precision: 0.8625 - val_recall: 0.7419 - val_auc: 0.9644 - val_prc: 0.8827\n",
            "Epoch 45/120\n",
            "45/45 [==============================] - 10s 224ms/step - loss: 0.0648 - tp: 693.0000 - fp: 41.0000 - tn: 4843.0000 - fn: 93.0000 - accuracy: 0.9764 - precision: 0.9441 - recall: 0.8817 - auc: 0.9933 - prc: 0.9710 - val_loss: 0.1420 - val_tp: 80.0000 - val_fp: 13.0000 - val_tn: 524.0000 - val_fn: 13.0000 - val_accuracy: 0.9587 - val_precision: 0.8602 - val_recall: 0.8602 - val_auc: 0.9732 - val_prc: 0.8977\n",
            "Epoch 46/120\n",
            "45/45 [==============================] - 10s 224ms/step - loss: 0.0666 - tp: 707.0000 - fp: 55.0000 - tn: 4829.0000 - fn: 79.0000 - accuracy: 0.9764 - precision: 0.9278 - recall: 0.8995 - auc: 0.9925 - prc: 0.9680 - val_loss: 0.1365 - val_tp: 74.0000 - val_fp: 12.0000 - val_tn: 525.0000 - val_fn: 19.0000 - val_accuracy: 0.9508 - val_precision: 0.8605 - val_recall: 0.7957 - val_auc: 0.9727 - val_prc: 0.9159\n",
            "Epoch 47/120\n",
            "45/45 [==============================] - 10s 225ms/step - loss: 0.0637 - tp: 694.0000 - fp: 57.0000 - tn: 4827.0000 - fn: 92.0000 - accuracy: 0.9737 - precision: 0.9241 - recall: 0.8830 - auc: 0.9927 - prc: 0.9719 - val_loss: 0.0958 - val_tp: 81.0000 - val_fp: 9.0000 - val_tn: 528.0000 - val_fn: 12.0000 - val_accuracy: 0.9667 - val_precision: 0.9000 - val_recall: 0.8710 - val_auc: 0.9802 - val_prc: 0.9458\n",
            "Epoch 48/120\n",
            "45/45 [==============================] - 10s 226ms/step - loss: 0.0634 - tp: 708.0000 - fp: 63.0000 - tn: 4821.0000 - fn: 78.0000 - accuracy: 0.9751 - precision: 0.9183 - recall: 0.9008 - auc: 0.9922 - prc: 0.9723 - val_loss: 0.1226 - val_tp: 78.0000 - val_fp: 14.0000 - val_tn: 523.0000 - val_fn: 15.0000 - val_accuracy: 0.9540 - val_precision: 0.8478 - val_recall: 0.8387 - val_auc: 0.9788 - val_prc: 0.9287\n",
            "Epoch 49/120\n",
            "45/45 [==============================] - 10s 224ms/step - loss: 0.0655 - tp: 695.0000 - fp: 49.0000 - tn: 4835.0000 - fn: 91.0000 - accuracy: 0.9753 - precision: 0.9341 - recall: 0.8842 - auc: 0.9928 - prc: 0.9702 - val_loss: 0.1093 - val_tp: 75.0000 - val_fp: 11.0000 - val_tn: 526.0000 - val_fn: 18.0000 - val_accuracy: 0.9540 - val_precision: 0.8721 - val_recall: 0.8065 - val_auc: 0.9813 - val_prc: 0.9363\n",
            "Epoch 50/120\n",
            "45/45 [==============================] - 10s 223ms/step - loss: 0.0624 - tp: 706.0000 - fp: 48.0000 - tn: 4836.0000 - fn: 80.0000 - accuracy: 0.9774 - precision: 0.9363 - recall: 0.8982 - auc: 0.9927 - prc: 0.9728 - val_loss: 0.1092 - val_tp: 75.0000 - val_fp: 9.0000 - val_tn: 528.0000 - val_fn: 18.0000 - val_accuracy: 0.9571 - val_precision: 0.8929 - val_recall: 0.8065 - val_auc: 0.9764 - val_prc: 0.9362\n",
            "Epoch 51/120\n",
            "45/45 [==============================] - 10s 223ms/step - loss: 0.0615 - tp: 714.0000 - fp: 42.0000 - tn: 4842.0000 - fn: 72.0000 - accuracy: 0.9799 - precision: 0.9444 - recall: 0.9084 - auc: 0.9934 - prc: 0.9730 - val_loss: 0.1109 - val_tp: 77.0000 - val_fp: 9.0000 - val_tn: 528.0000 - val_fn: 16.0000 - val_accuracy: 0.9603 - val_precision: 0.8953 - val_recall: 0.8280 - val_auc: 0.9819 - val_prc: 0.9355\n",
            "Epoch 52/120\n",
            "45/45 [==============================] - 10s 226ms/step - loss: 0.0608 - tp: 705.0000 - fp: 47.0000 - tn: 4837.0000 - fn: 81.0000 - accuracy: 0.9774 - precision: 0.9375 - recall: 0.8969 - auc: 0.9935 - prc: 0.9739 - val_loss: 0.1450 - val_tp: 74.0000 - val_fp: 9.0000 - val_tn: 528.0000 - val_fn: 19.0000 - val_accuracy: 0.9556 - val_precision: 0.8916 - val_recall: 0.7957 - val_auc: 0.9662 - val_prc: 0.8955\n",
            "Epoch 53/120\n",
            "45/45 [==============================] - 10s 222ms/step - loss: 0.0580 - tp: 721.0000 - fp: 50.0000 - tn: 4834.0000 - fn: 65.0000 - accuracy: 0.9797 - precision: 0.9351 - recall: 0.9173 - auc: 0.9953 - prc: 0.9748 - val_loss: 0.1164 - val_tp: 80.0000 - val_fp: 13.0000 - val_tn: 524.0000 - val_fn: 13.0000 - val_accuracy: 0.9587 - val_precision: 0.8602 - val_recall: 0.8602 - val_auc: 0.9854 - val_prc: 0.9377\n",
            "Epoch 54/120\n",
            "45/45 [==============================] - 10s 225ms/step - loss: 0.0577 - tp: 715.0000 - fp: 39.0000 - tn: 4845.0000 - fn: 71.0000 - accuracy: 0.9806 - precision: 0.9483 - recall: 0.9097 - auc: 0.9913 - prc: 0.9758 - val_loss: 0.1401 - val_tp: 77.0000 - val_fp: 11.0000 - val_tn: 526.0000 - val_fn: 16.0000 - val_accuracy: 0.9571 - val_precision: 0.8750 - val_recall: 0.8280 - val_auc: 0.9733 - val_prc: 0.9108\n",
            "Epoch 55/120\n",
            "45/45 [==============================] - 10s 223ms/step - loss: 0.0640 - tp: 706.0000 - fp: 46.0000 - tn: 4838.0000 - fn: 80.0000 - accuracy: 0.9778 - precision: 0.9388 - recall: 0.8982 - auc: 0.9903 - prc: 0.9704 - val_loss: 0.1131 - val_tp: 78.0000 - val_fp: 14.0000 - val_tn: 523.0000 - val_fn: 15.0000 - val_accuracy: 0.9540 - val_precision: 0.8478 - val_recall: 0.8387 - val_auc: 0.9862 - val_prc: 0.9284\n",
            "Epoch 56/120\n",
            "45/45 [==============================] - 10s 220ms/step - loss: 0.0572 - tp: 713.0000 - fp: 46.0000 - tn: 4838.0000 - fn: 73.0000 - accuracy: 0.9790 - precision: 0.9394 - recall: 0.9071 - auc: 0.9942 - prc: 0.9756 - val_loss: 0.1570 - val_tp: 80.0000 - val_fp: 16.0000 - val_tn: 521.0000 - val_fn: 13.0000 - val_accuracy: 0.9540 - val_precision: 0.8333 - val_recall: 0.8602 - val_auc: 0.9648 - val_prc: 0.8764\n",
            "Epoch 57/120\n",
            "45/45 [==============================] - 10s 227ms/step - loss: 0.0505 - tp: 716.0000 - fp: 35.0000 - tn: 4849.0000 - fn: 70.0000 - accuracy: 0.9815 - precision: 0.9534 - recall: 0.9109 - auc: 0.9958 - prc: 0.9816 - val_loss: 0.1310 - val_tp: 78.0000 - val_fp: 12.0000 - val_tn: 525.0000 - val_fn: 15.0000 - val_accuracy: 0.9571 - val_precision: 0.8667 - val_recall: 0.8387 - val_auc: 0.9800 - val_prc: 0.9210\n",
            "Epoch 58/120\n",
            "45/45 [==============================] - 10s 220ms/step - loss: 0.0528 - tp: 722.0000 - fp: 37.0000 - tn: 4847.0000 - fn: 64.0000 - accuracy: 0.9822 - precision: 0.9513 - recall: 0.9186 - auc: 0.9948 - prc: 0.9779 - val_loss: 0.1328 - val_tp: 76.0000 - val_fp: 14.0000 - val_tn: 523.0000 - val_fn: 17.0000 - val_accuracy: 0.9508 - val_precision: 0.8444 - val_recall: 0.8172 - val_auc: 0.9736 - val_prc: 0.9181\n",
            "Epoch 59/120\n",
            "45/45 [==============================] - 10s 219ms/step - loss: 0.0566 - tp: 714.0000 - fp: 42.0000 - tn: 4842.0000 - fn: 72.0000 - accuracy: 0.9799 - precision: 0.9444 - recall: 0.9084 - auc: 0.9949 - prc: 0.9772 - val_loss: 0.0960 - val_tp: 73.0000 - val_fp: 6.0000 - val_tn: 531.0000 - val_fn: 20.0000 - val_accuracy: 0.9587 - val_precision: 0.9241 - val_recall: 0.7849 - val_auc: 0.9893 - val_prc: 0.9513\n",
            "Epoch 60/120\n",
            "45/45 [==============================] - 10s 223ms/step - loss: 0.0501 - tp: 726.0000 - fp: 40.0000 - tn: 4844.0000 - fn: 60.0000 - accuracy: 0.9824 - precision: 0.9478 - recall: 0.9237 - auc: 0.9964 - prc: 0.9807 - val_loss: 0.1532 - val_tp: 80.0000 - val_fp: 17.0000 - val_tn: 520.0000 - val_fn: 13.0000 - val_accuracy: 0.9524 - val_precision: 0.8247 - val_recall: 0.8602 - val_auc: 0.9640 - val_prc: 0.8876\n",
            "Epoch 61/120\n",
            "45/45 [==============================] - 10s 223ms/step - loss: 0.0508 - tp: 719.0000 - fp: 50.0000 - tn: 4834.0000 - fn: 67.0000 - accuracy: 0.9794 - precision: 0.9350 - recall: 0.9148 - auc: 0.9959 - prc: 0.9799 - val_loss: 0.1125 - val_tp: 78.0000 - val_fp: 10.0000 - val_tn: 527.0000 - val_fn: 15.0000 - val_accuracy: 0.9603 - val_precision: 0.8864 - val_recall: 0.8387 - val_auc: 0.9812 - val_prc: 0.9344\n",
            "Epoch 62/120\n",
            "45/45 [==============================] - 10s 225ms/step - loss: 0.0495 - tp: 719.0000 - fp: 43.0000 - tn: 4841.0000 - fn: 67.0000 - accuracy: 0.9806 - precision: 0.9436 - recall: 0.9148 - auc: 0.9961 - prc: 0.9824 - val_loss: 0.1376 - val_tp: 74.0000 - val_fp: 8.0000 - val_tn: 529.0000 - val_fn: 19.0000 - val_accuracy: 0.9571 - val_precision: 0.9024 - val_recall: 0.7957 - val_auc: 0.9706 - val_prc: 0.9102\n",
            "Epoch 63/120\n",
            "45/45 [==============================] - 10s 228ms/step - loss: 0.0486 - tp: 723.0000 - fp: 34.0000 - tn: 4850.0000 - fn: 63.0000 - accuracy: 0.9829 - precision: 0.9551 - recall: 0.9198 - auc: 0.9950 - prc: 0.9826 - val_loss: 0.1473 - val_tp: 78.0000 - val_fp: 14.0000 - val_tn: 523.0000 - val_fn: 15.0000 - val_accuracy: 0.9540 - val_precision: 0.8478 - val_recall: 0.8387 - val_auc: 0.9746 - val_prc: 0.8909\n",
            "Epoch 64/120\n",
            "45/45 [==============================] - 10s 222ms/step - loss: 0.0499 - tp: 718.0000 - fp: 40.0000 - tn: 4844.0000 - fn: 68.0000 - accuracy: 0.9810 - precision: 0.9472 - recall: 0.9135 - auc: 0.9953 - prc: 0.9817 - val_loss: 0.1122 - val_tp: 77.0000 - val_fp: 10.0000 - val_tn: 527.0000 - val_fn: 16.0000 - val_accuracy: 0.9587 - val_precision: 0.8851 - val_recall: 0.8280 - val_auc: 0.9736 - val_prc: 0.9254\n",
            "Epoch 65/120\n",
            "45/45 [==============================] - 10s 227ms/step - loss: 0.0431 - tp: 730.0000 - fp: 37.0000 - tn: 4847.0000 - fn: 56.0000 - accuracy: 0.9836 - precision: 0.9518 - recall: 0.9288 - auc: 0.9974 - prc: 0.9867 - val_loss: 0.1348 - val_tp: 78.0000 - val_fp: 14.0000 - val_tn: 523.0000 - val_fn: 15.0000 - val_accuracy: 0.9540 - val_precision: 0.8478 - val_recall: 0.8387 - val_auc: 0.9708 - val_prc: 0.9129\n",
            "Epoch 66/120\n",
            "45/45 [==============================] - 10s 218ms/step - loss: 0.0457 - tp: 732.0000 - fp: 40.0000 - tn: 4844.0000 - fn: 54.0000 - accuracy: 0.9834 - precision: 0.9482 - recall: 0.9313 - auc: 0.9959 - prc: 0.9843 - val_loss: 0.1030 - val_tp: 82.0000 - val_fp: 5.0000 - val_tn: 532.0000 - val_fn: 11.0000 - val_accuracy: 0.9746 - val_precision: 0.9425 - val_recall: 0.8817 - val_auc: 0.9794 - val_prc: 0.9464\n",
            "Epoch 67/120\n",
            "45/45 [==============================] - 10s 222ms/step - loss: 0.0456 - tp: 732.0000 - fp: 38.0000 - tn: 4846.0000 - fn: 54.0000 - accuracy: 0.9838 - precision: 0.9506 - recall: 0.9313 - auc: 0.9955 - prc: 0.9816 - val_loss: 0.1484 - val_tp: 75.0000 - val_fp: 11.0000 - val_tn: 526.0000 - val_fn: 18.0000 - val_accuracy: 0.9540 - val_precision: 0.8721 - val_recall: 0.8065 - val_auc: 0.9743 - val_prc: 0.9076\n",
            "Epoch 68/120\n",
            "45/45 [==============================] - 10s 223ms/step - loss: 0.0492 - tp: 720.0000 - fp: 41.0000 - tn: 4843.0000 - fn: 66.0000 - accuracy: 0.9811 - precision: 0.9461 - recall: 0.9160 - auc: 0.9963 - prc: 0.9825 - val_loss: 0.1451 - val_tp: 82.0000 - val_fp: 23.0000 - val_tn: 514.0000 - val_fn: 11.0000 - val_accuracy: 0.9460 - val_precision: 0.7810 - val_recall: 0.8817 - val_auc: 0.9835 - val_prc: 0.9145\n",
            "Epoch 69/120\n",
            "45/45 [==============================] - 10s 225ms/step - loss: 0.0478 - tp: 731.0000 - fp: 40.0000 - tn: 4844.0000 - fn: 55.0000 - accuracy: 0.9832 - precision: 0.9481 - recall: 0.9300 - auc: 0.9956 - prc: 0.9831 - val_loss: 0.1278 - val_tp: 76.0000 - val_fp: 11.0000 - val_tn: 526.0000 - val_fn: 17.0000 - val_accuracy: 0.9556 - val_precision: 0.8736 - val_recall: 0.8172 - val_auc: 0.9750 - val_prc: 0.9232\n",
            "Epoch 70/120\n",
            "45/45 [==============================] - 10s 227ms/step - loss: 0.0499 - tp: 727.0000 - fp: 49.0000 - tn: 4835.0000 - fn: 59.0000 - accuracy: 0.9810 - precision: 0.9369 - recall: 0.9249 - auc: 0.9953 - prc: 0.9817 - val_loss: 0.1269 - val_tp: 78.0000 - val_fp: 11.0000 - val_tn: 526.0000 - val_fn: 15.0000 - val_accuracy: 0.9587 - val_precision: 0.8764 - val_recall: 0.8387 - val_auc: 0.9748 - val_prc: 0.9331\n"
          ]
        }
      ],
      "source": [
        "xcresult_=xctl.fit(datagen5.flow(X_train5, y_train5, batch_size=128),\n",
        "         validation_data=datagen5.flow(X_val5, y_val5,\n",
        "         batch_size=8), epochs=120,callbacks=[callback])"
      ]
    },
    {
      "cell_type": "code",
      "execution_count": null,
      "metadata": {
        "colab": {
          "base_uri": "https://localhost:8080/",
          "height": 297
        },
        "id": "sxeB3w8S0jjU",
        "outputId": "259ef679-8c47-4bc8-e30f-00f61d490082"
      },
      "outputs": [
        {
          "data": {
            "text/plain": [
              "<matplotlib.legend.Legend at 0x7fc5c4fa6710>"
            ]
          },
          "execution_count": 70,
          "metadata": {},
          "output_type": "execute_result"
        },
        {
          "data": {
            "image/png": "[encoded data removed]",
            "text/plain": [
              "<Figure size 432x288 with 1 Axes>"
            ]
          },
          "metadata": {},
          "output_type": "display_data"
        }
      ],
      "source": [
        "plt.title('PRC')\n",
        "plt.plot(xcresult_.history['prc'], label='PRC')\n",
        "plt.plot(xcresult_.history['val_prc'], label='val_PRC')\n",
        "plt.legend()"
      ]
    },
    {
      "cell_type": "code",
      "execution_count": null,
      "metadata": {
        "colab": {
          "base_uri": "https://localhost:8080/",
          "height": 297
        },
        "id": "BxJwOwzaG0Kv",
        "outputId": "c446a1b3-844e-423d-da55-267953c319d0"
      },
      "outputs": [
        {
          "data": {
            "text/plain": [
              "<matplotlib.legend.Legend at 0x7fc5c4fd55d0>"
            ]
          },
          "execution_count": 71,
          "metadata": {},
          "output_type": "execute_result"
        },
        {
          "data": {
            "image/png": "[encoded data removed]",
            "text/plain": [
              "<Figure size 432x288 with 1 Axes>"
            ]
          },
          "metadata": {},
          "output_type": "display_data"
        }
      ],
      "source": [
        "plt.title('AUC')\n",
        "plt.plot(xcresult_.history['auc'], label='AUC')\n",
        "plt.plot(xcresult_.history['val_auc'], label='val_AUC')\n",
        "plt.legend()"
      ]
    },
    {
      "cell_type": "code",
      "execution_count": null,
      "metadata": {
        "colab": {
          "base_uri": "https://localhost:8080/",
          "height": 297
        },
        "id": "hTfYWxrxG9Rr",
        "outputId": "2c21456b-7e07-4f41-95a0-d9aa2aaf74d1"
      },
      "outputs": [
        {
          "data": {
            "text/plain": [
              "<matplotlib.legend.Legend at 0x7fc5bc25f5d0>"
            ]
          },
          "execution_count": 72,
          "metadata": {},
          "output_type": "execute_result"
        },
        {
          "data": {
            "image/png": "[encoded data removed]",
            "text/plain": [
              "<Figure size 432x288 with 1 Axes>"
            ]
          },
          "metadata": {},
          "output_type": "display_data"
        }
      ],
      "source": [
        "plt.title('LOSS')\n",
        "plt.plot(xcresult_.history['loss'], label='loss')\n",
        "plt.plot(xcresult_.history['val_loss'], label='val_loss')\n",
        "plt.legend()"
      ]
    },
    {
      "cell_type": "code",
      "execution_count": null,
      "metadata": {
        "id": "rWYH8mjd_tlb"
      },
      "outputs": [],
      "source": [
        ""
      ]
    }
  ],
  "metadata": {
    "colab": {
      "collapsed_sections": [
        "1wO4hax65cCX",
        "pzGzHb3tLKIg",
        "5apIsvBf7b5V",
        "xFtYlaghTu6H"
      ],
      "name": "DL3_endsem.ipynb",
      "provenance": [],
      "machine_shape": "hm"
    },
    "interpreter": {
      "hash": "6a65904b868753e9b96e07e72c98b8fbd80ee0772a8c8114e7ac8901d54cf768"
    },
    "kernelspec": {
      "display_name": "Python 3.7.11 64-bit ('pythonlower': conda)",
      "language": "python",
      "name": "python3"
    },
    "language_info": {
      "codemirror_mode": {
        "name": "ipython",
        "version": 3
      },
      "file_extension": ".py",
      "mimetype": "text/x-python",
      "name": "python",
      "nbconvert_exporter": "python",
      "pygments_lexer": "ipython3",
      "version": "3.7.11"
    },
    "accelerator": "GPU"
  },
  "nbformat": 4,
  "nbformat_minor": 0
}